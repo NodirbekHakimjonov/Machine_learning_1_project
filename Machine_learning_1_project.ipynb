{
 "cells": [
  {
   "cell_type": "code",
   "execution_count": 43,
   "id": "cd48d79c",
   "metadata": {},
   "outputs": [
    {
     "data": {
      "text/html": [
       "<div>\n",
       "<style scoped>\n",
       "    .dataframe tbody tr th:only-of-type {\n",
       "        vertical-align: middle;\n",
       "    }\n",
       "\n",
       "    .dataframe tbody tr th {\n",
       "        vertical-align: top;\n",
       "    }\n",
       "\n",
       "    .dataframe thead th {\n",
       "        text-align: right;\n",
       "    }\n",
       "</style>\n",
       "<table border=\"1\" class=\"dataframe\">\n",
       "  <thead>\n",
       "    <tr style=\"text-align: right;\">\n",
       "      <th></th>\n",
       "      <th>location</th>\n",
       "      <th>district</th>\n",
       "      <th>rooms</th>\n",
       "      <th>size</th>\n",
       "      <th>level</th>\n",
       "      <th>max_levels</th>\n",
       "      <th>price</th>\n",
       "    </tr>\n",
       "  </thead>\n",
       "  <tbody>\n",
       "    <tr>\n",
       "      <th>0</th>\n",
       "      <td>город Ташкент, Юнусабадский район, Юнусабад 8-...</td>\n",
       "      <td>Юнусабадский</td>\n",
       "      <td>3</td>\n",
       "      <td>57</td>\n",
       "      <td>4</td>\n",
       "      <td>4</td>\n",
       "      <td>52000</td>\n",
       "    </tr>\n",
       "    <tr>\n",
       "      <th>1</th>\n",
       "      <td>город Ташкент, Яккасарайский район, 1-й тупик ...</td>\n",
       "      <td>Яккасарайский</td>\n",
       "      <td>2</td>\n",
       "      <td>52</td>\n",
       "      <td>4</td>\n",
       "      <td>5</td>\n",
       "      <td>56000</td>\n",
       "    </tr>\n",
       "    <tr>\n",
       "      <th>2</th>\n",
       "      <td>город Ташкент, Чиланзарский район, Чиланзар 2-...</td>\n",
       "      <td>Чиланзарский</td>\n",
       "      <td>2</td>\n",
       "      <td>42</td>\n",
       "      <td>4</td>\n",
       "      <td>4</td>\n",
       "      <td>37000</td>\n",
       "    </tr>\n",
       "    <tr>\n",
       "      <th>3</th>\n",
       "      <td>город Ташкент, Чиланзарский район, Чиланзар 9-...</td>\n",
       "      <td>Чиланзарский</td>\n",
       "      <td>3</td>\n",
       "      <td>65</td>\n",
       "      <td>1</td>\n",
       "      <td>4</td>\n",
       "      <td>49500</td>\n",
       "    </tr>\n",
       "    <tr>\n",
       "      <th>4</th>\n",
       "      <td>город Ташкент, Чиланзарский район, площадь Актепа</td>\n",
       "      <td>Чиланзарский</td>\n",
       "      <td>3</td>\n",
       "      <td>70</td>\n",
       "      <td>3</td>\n",
       "      <td>5</td>\n",
       "      <td>55000</td>\n",
       "    </tr>\n",
       "  </tbody>\n",
       "</table>\n",
       "</div>"
      ],
      "text/plain": [
       "                                            location       district  rooms  \\\n",
       "0  город Ташкент, Юнусабадский район, Юнусабад 8-...   Юнусабадский      3   \n",
       "1  город Ташкент, Яккасарайский район, 1-й тупик ...  Яккасарайский      2   \n",
       "2  город Ташкент, Чиланзарский район, Чиланзар 2-...   Чиланзарский      2   \n",
       "3  город Ташкент, Чиланзарский район, Чиланзар 9-...   Чиланзарский      3   \n",
       "4  город Ташкент, Чиланзарский район, площадь Актепа   Чиланзарский      3   \n",
       "\n",
       "  size  level  max_levels  price  \n",
       "0   57      4           4  52000  \n",
       "1   52      4           5  56000  \n",
       "2   42      4           4  37000  \n",
       "3   65      1           4  49500  \n",
       "4   70      3           5  55000  "
      ]
     },
     "execution_count": 43,
     "metadata": {},
     "output_type": "execute_result"
    }
   ],
   "source": [
    "import pandas as pd\n",
    "df = pd.read_csv('https://raw.githubusercontent.com/anvarnarz/praktikum_datasets/main/housing_data_08-02-2021.csv')\n",
    "df.head()\n",
    "\n"
   ]
  },
  {
   "cell_type": "code",
   "execution_count": 5,
   "id": "55842435",
   "metadata": {},
   "outputs": [
    {
     "name": "stdout",
     "output_type": "stream",
     "text": [
      "<class 'pandas.core.frame.DataFrame'>\n",
      "RangeIndex: 7565 entries, 0 to 7564\n",
      "Data columns (total 7 columns):\n",
      " #   Column      Non-Null Count  Dtype \n",
      "---  ------      --------------  ----- \n",
      " 0   location    7565 non-null   object\n",
      " 1   district    7565 non-null   object\n",
      " 2   rooms       7565 non-null   int64 \n",
      " 3   size        7565 non-null   object\n",
      " 4   level       7565 non-null   int64 \n",
      " 5   max_levels  7565 non-null   int64 \n",
      " 6   price       7565 non-null   object\n",
      "dtypes: int64(3), object(4)\n",
      "memory usage: 413.8+ KB\n"
     ]
    }
   ],
   "source": [
    "df.info()"
   ]
  },
  {
   "cell_type": "code",
   "execution_count": 6,
   "id": "c0d92f01",
   "metadata": {
    "scrolled": false
   },
   "outputs": [
    {
     "data": {
      "text/html": [
       "<div>\n",
       "<style scoped>\n",
       "    .dataframe tbody tr th:only-of-type {\n",
       "        vertical-align: middle;\n",
       "    }\n",
       "\n",
       "    .dataframe tbody tr th {\n",
       "        vertical-align: top;\n",
       "    }\n",
       "\n",
       "    .dataframe thead th {\n",
       "        text-align: right;\n",
       "    }\n",
       "</style>\n",
       "<table border=\"1\" class=\"dataframe\">\n",
       "  <thead>\n",
       "    <tr style=\"text-align: right;\">\n",
       "      <th></th>\n",
       "      <th>rooms</th>\n",
       "      <th>level</th>\n",
       "      <th>max_levels</th>\n",
       "    </tr>\n",
       "  </thead>\n",
       "  <tbody>\n",
       "    <tr>\n",
       "      <th>count</th>\n",
       "      <td>7565.000000</td>\n",
       "      <td>7565.000000</td>\n",
       "      <td>7565.000000</td>\n",
       "    </tr>\n",
       "    <tr>\n",
       "      <th>mean</th>\n",
       "      <td>2.625644</td>\n",
       "      <td>3.699273</td>\n",
       "      <td>6.038202</td>\n",
       "    </tr>\n",
       "    <tr>\n",
       "      <th>std</th>\n",
       "      <td>1.085201</td>\n",
       "      <td>2.237275</td>\n",
       "      <td>2.613271</td>\n",
       "    </tr>\n",
       "    <tr>\n",
       "      <th>min</th>\n",
       "      <td>1.000000</td>\n",
       "      <td>1.000000</td>\n",
       "      <td>1.000000</td>\n",
       "    </tr>\n",
       "    <tr>\n",
       "      <th>25%</th>\n",
       "      <td>2.000000</td>\n",
       "      <td>2.000000</td>\n",
       "      <td>4.000000</td>\n",
       "    </tr>\n",
       "    <tr>\n",
       "      <th>50%</th>\n",
       "      <td>3.000000</td>\n",
       "      <td>3.000000</td>\n",
       "      <td>5.000000</td>\n",
       "    </tr>\n",
       "    <tr>\n",
       "      <th>75%</th>\n",
       "      <td>3.000000</td>\n",
       "      <td>5.000000</td>\n",
       "      <td>9.000000</td>\n",
       "    </tr>\n",
       "    <tr>\n",
       "      <th>max</th>\n",
       "      <td>10.000000</td>\n",
       "      <td>19.000000</td>\n",
       "      <td>25.000000</td>\n",
       "    </tr>\n",
       "  </tbody>\n",
       "</table>\n",
       "</div>"
      ],
      "text/plain": [
       "             rooms        level   max_levels\n",
       "count  7565.000000  7565.000000  7565.000000\n",
       "mean      2.625644     3.699273     6.038202\n",
       "std       1.085201     2.237275     2.613271\n",
       "min       1.000000     1.000000     1.000000\n",
       "25%       2.000000     2.000000     4.000000\n",
       "50%       3.000000     3.000000     5.000000\n",
       "75%       3.000000     5.000000     9.000000\n",
       "max      10.000000    19.000000    25.000000"
      ]
     },
     "execution_count": 6,
     "metadata": {},
     "output_type": "execute_result"
    }
   ],
   "source": [
    "df.describe()"
   ]
  },
  {
   "cell_type": "code",
   "execution_count": 7,
   "id": "6fbb4c69",
   "metadata": {},
   "outputs": [
    {
     "data": {
      "text/plain": [
       "Чиланзарский         1641\n",
       "Мирзо-Улугбекский    1382\n",
       "Юнусабадский          883\n",
       "Учтепинский           880\n",
       "Мирабадский           773\n",
       "Яккасарайский         658\n",
       "Яшнободский           484\n",
       "Шайхантахурский       396\n",
       "Олмазорский           269\n",
       "Сергелийский          175\n",
       "Янгихаётский           16\n",
       "Бектемирский            8\n",
       "Name: district, dtype: int64"
      ]
     },
     "execution_count": 7,
     "metadata": {},
     "output_type": "execute_result"
    }
   ],
   "source": [
    "df.district.value_counts()"
   ]
  },
  {
   "cell_type": "markdown",
   "id": "31448aec",
   "metadata": {},
   "source": []
  },
  {
   "cell_type": "markdown",
   "id": "c542ffbe",
   "metadata": {},
   "source": [
    "# pricedagi objectni floatga o`tkazish"
   ]
  },
  {
   "cell_type": "code",
   "execution_count": 8,
   "id": "66cf6e63",
   "metadata": {},
   "outputs": [
    {
     "ename": "ValueError",
     "evalue": "could not convert string to float: 'Договорная'",
     "output_type": "error",
     "traceback": [
      "\u001b[1;31m---------------------------------------------------------------------------\u001b[0m",
      "\u001b[1;31mValueError\u001b[0m                                Traceback (most recent call last)",
      "\u001b[1;32m<ipython-input-8-b88fb0c482df>\u001b[0m in \u001b[0;36m<module>\u001b[1;34m\u001b[0m\n\u001b[1;32m----> 1\u001b[1;33m \u001b[0mdf\u001b[0m\u001b[1;33m[\u001b[0m\u001b[1;34m'price'\u001b[0m\u001b[1;33m]\u001b[0m\u001b[1;33m=\u001b[0m\u001b[0mdf\u001b[0m\u001b[1;33m[\u001b[0m\u001b[1;34m'price'\u001b[0m\u001b[1;33m]\u001b[0m\u001b[1;33m.\u001b[0m\u001b[0mmap\u001b[0m\u001b[1;33m(\u001b[0m\u001b[1;32mlambda\u001b[0m \u001b[0mx\u001b[0m\u001b[1;33m:\u001b[0m\u001b[0mfloat\u001b[0m\u001b[1;33m(\u001b[0m\u001b[0mx\u001b[0m\u001b[1;33m)\u001b[0m\u001b[1;33m)\u001b[0m\u001b[1;33m\u001b[0m\u001b[1;33m\u001b[0m\u001b[0m\n\u001b[0m",
      "\u001b[1;32mC:\\ProgramData\\Anaconda3\\lib\\site-packages\\pandas\\core\\series.py\u001b[0m in \u001b[0;36mmap\u001b[1;34m(self, arg, na_action)\u001b[0m\n\u001b[0;32m   3907\u001b[0m         \u001b[0mdtype\u001b[0m\u001b[1;33m:\u001b[0m \u001b[0mobject\u001b[0m\u001b[1;33m\u001b[0m\u001b[1;33m\u001b[0m\u001b[0m\n\u001b[0;32m   3908\u001b[0m         \"\"\"\n\u001b[1;32m-> 3909\u001b[1;33m         \u001b[0mnew_values\u001b[0m \u001b[1;33m=\u001b[0m \u001b[0msuper\u001b[0m\u001b[1;33m(\u001b[0m\u001b[1;33m)\u001b[0m\u001b[1;33m.\u001b[0m\u001b[0m_map_values\u001b[0m\u001b[1;33m(\u001b[0m\u001b[0marg\u001b[0m\u001b[1;33m,\u001b[0m \u001b[0mna_action\u001b[0m\u001b[1;33m=\u001b[0m\u001b[0mna_action\u001b[0m\u001b[1;33m)\u001b[0m\u001b[1;33m\u001b[0m\u001b[1;33m\u001b[0m\u001b[0m\n\u001b[0m\u001b[0;32m   3910\u001b[0m         return self._constructor(new_values, index=self.index).__finalize__(\n\u001b[0;32m   3911\u001b[0m             \u001b[0mself\u001b[0m\u001b[1;33m,\u001b[0m \u001b[0mmethod\u001b[0m\u001b[1;33m=\u001b[0m\u001b[1;34m\"map\"\u001b[0m\u001b[1;33m\u001b[0m\u001b[1;33m\u001b[0m\u001b[0m\n",
      "\u001b[1;32mC:\\ProgramData\\Anaconda3\\lib\\site-packages\\pandas\\core\\base.py\u001b[0m in \u001b[0;36m_map_values\u001b[1;34m(self, mapper, na_action)\u001b[0m\n\u001b[0;32m    935\u001b[0m \u001b[1;33m\u001b[0m\u001b[0m\n\u001b[0;32m    936\u001b[0m         \u001b[1;31m# mapper is a function\u001b[0m\u001b[1;33m\u001b[0m\u001b[1;33m\u001b[0m\u001b[1;33m\u001b[0m\u001b[0m\n\u001b[1;32m--> 937\u001b[1;33m         \u001b[0mnew_values\u001b[0m \u001b[1;33m=\u001b[0m \u001b[0mmap_f\u001b[0m\u001b[1;33m(\u001b[0m\u001b[0mvalues\u001b[0m\u001b[1;33m,\u001b[0m \u001b[0mmapper\u001b[0m\u001b[1;33m)\u001b[0m\u001b[1;33m\u001b[0m\u001b[1;33m\u001b[0m\u001b[0m\n\u001b[0m\u001b[0;32m    938\u001b[0m \u001b[1;33m\u001b[0m\u001b[0m\n\u001b[0;32m    939\u001b[0m         \u001b[1;32mreturn\u001b[0m \u001b[0mnew_values\u001b[0m\u001b[1;33m\u001b[0m\u001b[1;33m\u001b[0m\u001b[0m\n",
      "\u001b[1;32mpandas\\_libs\\lib.pyx\u001b[0m in \u001b[0;36mpandas._libs.lib.map_infer\u001b[1;34m()\u001b[0m\n",
      "\u001b[1;32m<ipython-input-8-b88fb0c482df>\u001b[0m in \u001b[0;36m<lambda>\u001b[1;34m(x)\u001b[0m\n\u001b[1;32m----> 1\u001b[1;33m \u001b[0mdf\u001b[0m\u001b[1;33m[\u001b[0m\u001b[1;34m'price'\u001b[0m\u001b[1;33m]\u001b[0m\u001b[1;33m=\u001b[0m\u001b[0mdf\u001b[0m\u001b[1;33m[\u001b[0m\u001b[1;34m'price'\u001b[0m\u001b[1;33m]\u001b[0m\u001b[1;33m.\u001b[0m\u001b[0mmap\u001b[0m\u001b[1;33m(\u001b[0m\u001b[1;32mlambda\u001b[0m \u001b[0mx\u001b[0m\u001b[1;33m:\u001b[0m\u001b[0mfloat\u001b[0m\u001b[1;33m(\u001b[0m\u001b[0mx\u001b[0m\u001b[1;33m)\u001b[0m\u001b[1;33m)\u001b[0m\u001b[1;33m\u001b[0m\u001b[1;33m\u001b[0m\u001b[0m\n\u001b[0m",
      "\u001b[1;31mValueError\u001b[0m: could not convert string to float: 'Договорная'"
     ]
    }
   ],
   "source": [
    "df['price']=df['price'].map(lambda x:float(x))"
   ]
  },
  {
   "cell_type": "code",
   "execution_count": 9,
   "id": "3bd618a4",
   "metadata": {},
   "outputs": [],
   "source": [
    "df['price']=df['price'].replace('Договорная',0)"
   ]
  },
  {
   "cell_type": "code",
   "execution_count": 10,
   "id": "6c35092e",
   "metadata": {},
   "outputs": [],
   "source": [
    "price_median=df['price'].median()"
   ]
  },
  {
   "cell_type": "code",
   "execution_count": 11,
   "id": "d5e6364c",
   "metadata": {},
   "outputs": [
    {
     "data": {
      "text/plain": [
       "46000.0"
      ]
     },
     "execution_count": 11,
     "metadata": {},
     "output_type": "execute_result"
    }
   ],
   "source": [
    "price_median"
   ]
  },
  {
   "cell_type": "code",
   "execution_count": 12,
   "id": "121fe2e7",
   "metadata": {},
   "outputs": [],
   "source": [
    "df['price']=df['price'].replace(0,price_median)"
   ]
  },
  {
   "cell_type": "code",
   "execution_count": 13,
   "id": "aa5da04f",
   "metadata": {},
   "outputs": [],
   "source": [
    "df['price']=df['price'].map(lambda x:float(x))"
   ]
  },
  {
   "cell_type": "markdown",
   "id": "a33b4d2b",
   "metadata": {},
   "source": [
    "# sizedagi objectni floatga o`tkazish"
   ]
  },
  {
   "cell_type": "code",
   "execution_count": 14,
   "id": "4889bf6e",
   "metadata": {},
   "outputs": [
    {
     "ename": "ValueError",
     "evalue": "could not convert string to float: 'Площадьземли:1сот'",
     "output_type": "error",
     "traceback": [
      "\u001b[1;31m---------------------------------------------------------------------------\u001b[0m",
      "\u001b[1;31mValueError\u001b[0m                                Traceback (most recent call last)",
      "\u001b[1;32m<ipython-input-14-2c836372bad3>\u001b[0m in \u001b[0;36m<module>\u001b[1;34m\u001b[0m\n\u001b[1;32m----> 1\u001b[1;33m \u001b[0mdf\u001b[0m\u001b[1;33m[\u001b[0m\u001b[1;34m'size'\u001b[0m\u001b[1;33m]\u001b[0m\u001b[1;33m=\u001b[0m\u001b[0mdf\u001b[0m\u001b[1;33m[\u001b[0m\u001b[1;34m'size'\u001b[0m\u001b[1;33m]\u001b[0m\u001b[1;33m.\u001b[0m\u001b[0mmap\u001b[0m\u001b[1;33m(\u001b[0m\u001b[1;32mlambda\u001b[0m \u001b[0mx\u001b[0m\u001b[1;33m:\u001b[0m\u001b[0mfloat\u001b[0m\u001b[1;33m(\u001b[0m\u001b[0mx\u001b[0m\u001b[1;33m)\u001b[0m\u001b[1;33m)\u001b[0m\u001b[1;33m\u001b[0m\u001b[1;33m\u001b[0m\u001b[0m\n\u001b[0m",
      "\u001b[1;32mC:\\ProgramData\\Anaconda3\\lib\\site-packages\\pandas\\core\\series.py\u001b[0m in \u001b[0;36mmap\u001b[1;34m(self, arg, na_action)\u001b[0m\n\u001b[0;32m   3907\u001b[0m         \u001b[0mdtype\u001b[0m\u001b[1;33m:\u001b[0m \u001b[0mobject\u001b[0m\u001b[1;33m\u001b[0m\u001b[1;33m\u001b[0m\u001b[0m\n\u001b[0;32m   3908\u001b[0m         \"\"\"\n\u001b[1;32m-> 3909\u001b[1;33m         \u001b[0mnew_values\u001b[0m \u001b[1;33m=\u001b[0m \u001b[0msuper\u001b[0m\u001b[1;33m(\u001b[0m\u001b[1;33m)\u001b[0m\u001b[1;33m.\u001b[0m\u001b[0m_map_values\u001b[0m\u001b[1;33m(\u001b[0m\u001b[0marg\u001b[0m\u001b[1;33m,\u001b[0m \u001b[0mna_action\u001b[0m\u001b[1;33m=\u001b[0m\u001b[0mna_action\u001b[0m\u001b[1;33m)\u001b[0m\u001b[1;33m\u001b[0m\u001b[1;33m\u001b[0m\u001b[0m\n\u001b[0m\u001b[0;32m   3910\u001b[0m         return self._constructor(new_values, index=self.index).__finalize__(\n\u001b[0;32m   3911\u001b[0m             \u001b[0mself\u001b[0m\u001b[1;33m,\u001b[0m \u001b[0mmethod\u001b[0m\u001b[1;33m=\u001b[0m\u001b[1;34m\"map\"\u001b[0m\u001b[1;33m\u001b[0m\u001b[1;33m\u001b[0m\u001b[0m\n",
      "\u001b[1;32mC:\\ProgramData\\Anaconda3\\lib\\site-packages\\pandas\\core\\base.py\u001b[0m in \u001b[0;36m_map_values\u001b[1;34m(self, mapper, na_action)\u001b[0m\n\u001b[0;32m    935\u001b[0m \u001b[1;33m\u001b[0m\u001b[0m\n\u001b[0;32m    936\u001b[0m         \u001b[1;31m# mapper is a function\u001b[0m\u001b[1;33m\u001b[0m\u001b[1;33m\u001b[0m\u001b[1;33m\u001b[0m\u001b[0m\n\u001b[1;32m--> 937\u001b[1;33m         \u001b[0mnew_values\u001b[0m \u001b[1;33m=\u001b[0m \u001b[0mmap_f\u001b[0m\u001b[1;33m(\u001b[0m\u001b[0mvalues\u001b[0m\u001b[1;33m,\u001b[0m \u001b[0mmapper\u001b[0m\u001b[1;33m)\u001b[0m\u001b[1;33m\u001b[0m\u001b[1;33m\u001b[0m\u001b[0m\n\u001b[0m\u001b[0;32m    938\u001b[0m \u001b[1;33m\u001b[0m\u001b[0m\n\u001b[0;32m    939\u001b[0m         \u001b[1;32mreturn\u001b[0m \u001b[0mnew_values\u001b[0m\u001b[1;33m\u001b[0m\u001b[1;33m\u001b[0m\u001b[0m\n",
      "\u001b[1;32mpandas\\_libs\\lib.pyx\u001b[0m in \u001b[0;36mpandas._libs.lib.map_infer\u001b[1;34m()\u001b[0m\n",
      "\u001b[1;32m<ipython-input-14-2c836372bad3>\u001b[0m in \u001b[0;36m<lambda>\u001b[1;34m(x)\u001b[0m\n\u001b[1;32m----> 1\u001b[1;33m \u001b[0mdf\u001b[0m\u001b[1;33m[\u001b[0m\u001b[1;34m'size'\u001b[0m\u001b[1;33m]\u001b[0m\u001b[1;33m=\u001b[0m\u001b[0mdf\u001b[0m\u001b[1;33m[\u001b[0m\u001b[1;34m'size'\u001b[0m\u001b[1;33m]\u001b[0m\u001b[1;33m.\u001b[0m\u001b[0mmap\u001b[0m\u001b[1;33m(\u001b[0m\u001b[1;32mlambda\u001b[0m \u001b[0mx\u001b[0m\u001b[1;33m:\u001b[0m\u001b[0mfloat\u001b[0m\u001b[1;33m(\u001b[0m\u001b[0mx\u001b[0m\u001b[1;33m)\u001b[0m\u001b[1;33m)\u001b[0m\u001b[1;33m\u001b[0m\u001b[1;33m\u001b[0m\u001b[0m\n\u001b[0m",
      "\u001b[1;31mValueError\u001b[0m: could not convert string to float: 'Площадьземли:1сот'"
     ]
    }
   ],
   "source": [
    "df['size']=df['size'].map(lambda x:float(x))"
   ]
  },
  {
   "cell_type": "code",
   "execution_count": 15,
   "id": "6cb92afd",
   "metadata": {},
   "outputs": [],
   "source": [
    "df['size']=df['size'].replace('Площадьземли:1сот',0)"
   ]
  },
  {
   "cell_type": "code",
   "execution_count": 16,
   "id": "91ecc687",
   "metadata": {},
   "outputs": [
    {
     "data": {
      "text/plain": [
       "66.0"
      ]
     },
     "execution_count": 16,
     "metadata": {},
     "output_type": "execute_result"
    }
   ],
   "source": [
    "size_median=df['size'].median()\n",
    "size_median"
   ]
  },
  {
   "cell_type": "code",
   "execution_count": 17,
   "id": "0589e274",
   "metadata": {},
   "outputs": [],
   "source": [
    "df['size']=df['size'].replace(0,size_median)"
   ]
  },
  {
   "cell_type": "code",
   "execution_count": 18,
   "id": "132d2982",
   "metadata": {},
   "outputs": [],
   "source": [
    "df['size']=df['size'].map(lambda x:float(x))"
   ]
  },
  {
   "cell_type": "code",
   "execution_count": 19,
   "id": "74554b9b",
   "metadata": {},
   "outputs": [
    {
     "name": "stdout",
     "output_type": "stream",
     "text": [
      "<class 'pandas.core.frame.DataFrame'>\n",
      "RangeIndex: 7565 entries, 0 to 7564\n",
      "Data columns (total 7 columns):\n",
      " #   Column      Non-Null Count  Dtype  \n",
      "---  ------      --------------  -----  \n",
      " 0   location    7565 non-null   object \n",
      " 1   district    7565 non-null   object \n",
      " 2   rooms       7565 non-null   int64  \n",
      " 3   size        7565 non-null   float64\n",
      " 4   level       7565 non-null   int64  \n",
      " 5   max_levels  7565 non-null   int64  \n",
      " 6   price       7565 non-null   float64\n",
      "dtypes: float64(2), int64(3), object(2)\n",
      "memory usage: 413.8+ KB\n"
     ]
    }
   ],
   "source": [
    "df.info()"
   ]
  },
  {
   "cell_type": "code",
   "execution_count": 20,
   "id": "0ba632c7",
   "metadata": {},
   "outputs": [
    {
     "data": {
      "image/png": "[encoded data removed]",
      "text/plain": [
       "<Figure size 1440x1080 with 6 Axes>"
      ]
     },
     "metadata": {
      "needs_background": "light"
     },
     "output_type": "display_data"
    }
   ],
   "source": [
    "%matplotlib inline\n",
    "import matplotlib.pyplot as plt\n",
    "df.hist(bins=50,figsize=(20,15));"
   ]
  },
  {
   "cell_type": "code",
   "execution_count": 21,
   "id": "03420424",
   "metadata": {},
   "outputs": [],
   "source": [
    "from sklearn.model_selection import train_test_split\n",
    "train_set,test_set=train_test_split(df,test_size=0.10,random_state=42)"
   ]
  },
  {
   "cell_type": "code",
   "execution_count": 22,
   "id": "225e3352",
   "metadata": {},
   "outputs": [
    {
     "data": {
      "text/html": [
       "<div>\n",
       "<style scoped>\n",
       "    .dataframe tbody tr th:only-of-type {\n",
       "        vertical-align: middle;\n",
       "    }\n",
       "\n",
       "    .dataframe tbody tr th {\n",
       "        vertical-align: top;\n",
       "    }\n",
       "\n",
       "    .dataframe thead th {\n",
       "        text-align: right;\n",
       "    }\n",
       "</style>\n",
       "<table border=\"1\" class=\"dataframe\">\n",
       "  <thead>\n",
       "    <tr style=\"text-align: right;\">\n",
       "      <th></th>\n",
       "      <th>location</th>\n",
       "      <th>district</th>\n",
       "      <th>rooms</th>\n",
       "      <th>size</th>\n",
       "      <th>level</th>\n",
       "      <th>max_levels</th>\n",
       "      <th>price</th>\n",
       "    </tr>\n",
       "  </thead>\n",
       "  <tbody>\n",
       "    <tr>\n",
       "      <th>3399</th>\n",
       "      <td>город Ташкент, Яккасарайский район, Бобур</td>\n",
       "      <td>Яккасарайский</td>\n",
       "      <td>4</td>\n",
       "      <td>96.0</td>\n",
       "      <td>9</td>\n",
       "      <td>9</td>\n",
       "      <td>52000.0</td>\n",
       "    </tr>\n",
       "    <tr>\n",
       "      <th>6875</th>\n",
       "      <td>город Ташкент, Мирабадский район, Куйлюк 4-й к...</td>\n",
       "      <td>Мирабадский</td>\n",
       "      <td>2</td>\n",
       "      <td>68.0</td>\n",
       "      <td>3</td>\n",
       "      <td>9</td>\n",
       "      <td>33000.0</td>\n",
       "    </tr>\n",
       "    <tr>\n",
       "      <th>4927</th>\n",
       "      <td>город Ташкент, Яккасарайский район, Конституция</td>\n",
       "      <td>Яккасарайский</td>\n",
       "      <td>2</td>\n",
       "      <td>53.0</td>\n",
       "      <td>4</td>\n",
       "      <td>5</td>\n",
       "      <td>46000.0</td>\n",
       "    </tr>\n",
       "    <tr>\n",
       "      <th>1575</th>\n",
       "      <td>город Ташкент, Юнусабадский район, Юнусабад 19...</td>\n",
       "      <td>Юнусабадский</td>\n",
       "      <td>5</td>\n",
       "      <td>125.0</td>\n",
       "      <td>4</td>\n",
       "      <td>9</td>\n",
       "      <td>67000.0</td>\n",
       "    </tr>\n",
       "    <tr>\n",
       "      <th>1662</th>\n",
       "      <td>город Ташкент, Мирзо-Улугбекский район, Буюк И...</td>\n",
       "      <td>Мирзо-Улугбекский</td>\n",
       "      <td>3</td>\n",
       "      <td>82.0</td>\n",
       "      <td>3</td>\n",
       "      <td>4</td>\n",
       "      <td>120000.0</td>\n",
       "    </tr>\n",
       "    <tr>\n",
       "      <th>...</th>\n",
       "      <td>...</td>\n",
       "      <td>...</td>\n",
       "      <td>...</td>\n",
       "      <td>...</td>\n",
       "      <td>...</td>\n",
       "      <td>...</td>\n",
       "      <td>...</td>\n",
       "    </tr>\n",
       "    <tr>\n",
       "      <th>5191</th>\n",
       "      <td>город Ташкент, Юнусабадский район, Юнусабад 11...</td>\n",
       "      <td>Юнусабадский</td>\n",
       "      <td>3</td>\n",
       "      <td>70.0</td>\n",
       "      <td>4</td>\n",
       "      <td>4</td>\n",
       "      <td>43500.0</td>\n",
       "    </tr>\n",
       "    <tr>\n",
       "      <th>5226</th>\n",
       "      <td>город Ташкент, Чиланзарский район, Чиланзар кв...</td>\n",
       "      <td>Чиланзарский</td>\n",
       "      <td>4</td>\n",
       "      <td>92.0</td>\n",
       "      <td>9</td>\n",
       "      <td>9</td>\n",
       "      <td>56000.0</td>\n",
       "    </tr>\n",
       "    <tr>\n",
       "      <th>5390</th>\n",
       "      <td>город Ташкент, Чиланзарский район, Чиланзар 2-...</td>\n",
       "      <td>Чиланзарский</td>\n",
       "      <td>2</td>\n",
       "      <td>49.0</td>\n",
       "      <td>1</td>\n",
       "      <td>3</td>\n",
       "      <td>58500.0</td>\n",
       "    </tr>\n",
       "    <tr>\n",
       "      <th>860</th>\n",
       "      <td>город Ташкент, Шайхантахурский район, Лабзак</td>\n",
       "      <td>Шайхантахурский</td>\n",
       "      <td>2</td>\n",
       "      <td>60.0</td>\n",
       "      <td>3</td>\n",
       "      <td>4</td>\n",
       "      <td>53000.0</td>\n",
       "    </tr>\n",
       "    <tr>\n",
       "      <th>7270</th>\n",
       "      <td>город Ташкент, Шайхантахурский район, Ц-14 Мет...</td>\n",
       "      <td>Шайхантахурский</td>\n",
       "      <td>3</td>\n",
       "      <td>92.0</td>\n",
       "      <td>2</td>\n",
       "      <td>9</td>\n",
       "      <td>50000.0</td>\n",
       "    </tr>\n",
       "  </tbody>\n",
       "</table>\n",
       "<p>6808 rows × 7 columns</p>\n",
       "</div>"
      ],
      "text/plain": [
       "                                               location           district  \\\n",
       "3399          город Ташкент, Яккасарайский район, Бобур      Яккасарайский   \n",
       "6875  город Ташкент, Мирабадский район, Куйлюк 4-й к...        Мирабадский   \n",
       "4927    город Ташкент, Яккасарайский район, Конституция      Яккасарайский   \n",
       "1575  город Ташкент, Юнусабадский район, Юнусабад 19...       Юнусабадский   \n",
       "1662  город Ташкент, Мирзо-Улугбекский район, Буюк И...  Мирзо-Улугбекский   \n",
       "...                                                 ...                ...   \n",
       "5191  город Ташкент, Юнусабадский район, Юнусабад 11...       Юнусабадский   \n",
       "5226  город Ташкент, Чиланзарский район, Чиланзар кв...       Чиланзарский   \n",
       "5390  город Ташкент, Чиланзарский район, Чиланзар 2-...       Чиланзарский   \n",
       "860        город Ташкент, Шайхантахурский район, Лабзак    Шайхантахурский   \n",
       "7270  город Ташкент, Шайхантахурский район, Ц-14 Мет...    Шайхантахурский   \n",
       "\n",
       "      rooms   size  level  max_levels     price  \n",
       "3399      4   96.0      9           9   52000.0  \n",
       "6875      2   68.0      3           9   33000.0  \n",
       "4927      2   53.0      4           5   46000.0  \n",
       "1575      5  125.0      4           9   67000.0  \n",
       "1662      3   82.0      3           4  120000.0  \n",
       "...     ...    ...    ...         ...       ...  \n",
       "5191      3   70.0      4           4   43500.0  \n",
       "5226      4   92.0      9           9   56000.0  \n",
       "5390      2   49.0      1           3   58500.0  \n",
       "860       2   60.0      3           4   53000.0  \n",
       "7270      3   92.0      2           9   50000.0  \n",
       "\n",
       "[6808 rows x 7 columns]"
      ]
     },
     "execution_count": 22,
     "metadata": {},
     "output_type": "execute_result"
    }
   ],
   "source": [
    "train_set"
   ]
  },
  {
   "cell_type": "code",
   "execution_count": 23,
   "id": "f358dc58",
   "metadata": {},
   "outputs": [
    {
     "data": {
      "text/html": [
       "<div>\n",
       "<style scoped>\n",
       "    .dataframe tbody tr th:only-of-type {\n",
       "        vertical-align: middle;\n",
       "    }\n",
       "\n",
       "    .dataframe tbody tr th {\n",
       "        vertical-align: top;\n",
       "    }\n",
       "\n",
       "    .dataframe thead th {\n",
       "        text-align: right;\n",
       "    }\n",
       "</style>\n",
       "<table border=\"1\" class=\"dataframe\">\n",
       "  <thead>\n",
       "    <tr style=\"text-align: right;\">\n",
       "      <th></th>\n",
       "      <th>location</th>\n",
       "      <th>district</th>\n",
       "      <th>rooms</th>\n",
       "      <th>size</th>\n",
       "      <th>level</th>\n",
       "      <th>max_levels</th>\n",
       "      <th>price</th>\n",
       "    </tr>\n",
       "  </thead>\n",
       "  <tbody>\n",
       "    <tr>\n",
       "      <th>132</th>\n",
       "      <td>город Ташкент, Чиланзарский район, Чиланзар 6-...</td>\n",
       "      <td>Чиланзарский</td>\n",
       "      <td>2</td>\n",
       "      <td>37.0</td>\n",
       "      <td>1</td>\n",
       "      <td>4</td>\n",
       "      <td>41000.0</td>\n",
       "    </tr>\n",
       "    <tr>\n",
       "      <th>3771</th>\n",
       "      <td>город Ташкент, Сергелийский район, Сергели-I Я...</td>\n",
       "      <td>Сергелийский</td>\n",
       "      <td>1</td>\n",
       "      <td>39.0</td>\n",
       "      <td>5</td>\n",
       "      <td>5</td>\n",
       "      <td>21000.0</td>\n",
       "    </tr>\n",
       "    <tr>\n",
       "      <th>65</th>\n",
       "      <td>город Ташкент, Учтепинский район, Чиланзар 15-...</td>\n",
       "      <td>Учтепинский</td>\n",
       "      <td>4</td>\n",
       "      <td>110.0</td>\n",
       "      <td>3</td>\n",
       "      <td>3</td>\n",
       "      <td>91000.0</td>\n",
       "    </tr>\n",
       "    <tr>\n",
       "      <th>7525</th>\n",
       "      <td>город Ташкент, Шайхантахурский район, Алишера ...</td>\n",
       "      <td>Шайхантахурский</td>\n",
       "      <td>4</td>\n",
       "      <td>84.0</td>\n",
       "      <td>2</td>\n",
       "      <td>4</td>\n",
       "      <td>95000.0</td>\n",
       "    </tr>\n",
       "    <tr>\n",
       "      <th>6791</th>\n",
       "      <td>город Ташкент, Мирабадский район, Чимкент</td>\n",
       "      <td>Мирабадский</td>\n",
       "      <td>4</td>\n",
       "      <td>100.0</td>\n",
       "      <td>3</td>\n",
       "      <td>4</td>\n",
       "      <td>88000.0</td>\n",
       "    </tr>\n",
       "    <tr>\n",
       "      <th>...</th>\n",
       "      <td>...</td>\n",
       "      <td>...</td>\n",
       "      <td>...</td>\n",
       "      <td>...</td>\n",
       "      <td>...</td>\n",
       "      <td>...</td>\n",
       "      <td>...</td>\n",
       "    </tr>\n",
       "    <tr>\n",
       "      <th>5643</th>\n",
       "      <td>город Ташкент, Яккасарайский район, Кушбеги</td>\n",
       "      <td>Яккасарайский</td>\n",
       "      <td>3</td>\n",
       "      <td>80.0</td>\n",
       "      <td>4</td>\n",
       "      <td>5</td>\n",
       "      <td>56000.0</td>\n",
       "    </tr>\n",
       "    <tr>\n",
       "      <th>6135</th>\n",
       "      <td>город Ташкент, Сергелийский район, 1-й проезд ...</td>\n",
       "      <td>Сергелийский</td>\n",
       "      <td>4</td>\n",
       "      <td>135.0</td>\n",
       "      <td>1</td>\n",
       "      <td>3</td>\n",
       "      <td>70500.0</td>\n",
       "    </tr>\n",
       "    <tr>\n",
       "      <th>1915</th>\n",
       "      <td>город Ташкент, Учтепинский район, Чиланзар 26-...</td>\n",
       "      <td>Учтепинский</td>\n",
       "      <td>1</td>\n",
       "      <td>42.0</td>\n",
       "      <td>3</td>\n",
       "      <td>5</td>\n",
       "      <td>32000.0</td>\n",
       "    </tr>\n",
       "    <tr>\n",
       "      <th>6646</th>\n",
       "      <td>город Ташкент, Мирзо-Улугбекский район, 1-й Па...</td>\n",
       "      <td>Мирзо-Улугбекский</td>\n",
       "      <td>7</td>\n",
       "      <td>192.0</td>\n",
       "      <td>8</td>\n",
       "      <td>9</td>\n",
       "      <td>155000.0</td>\n",
       "    </tr>\n",
       "    <tr>\n",
       "      <th>5307</th>\n",
       "      <td>город Ташкент, Чиланзарский район, Чапаната</td>\n",
       "      <td>Чиланзарский</td>\n",
       "      <td>2</td>\n",
       "      <td>45.0</td>\n",
       "      <td>4</td>\n",
       "      <td>4</td>\n",
       "      <td>37000.0</td>\n",
       "    </tr>\n",
       "  </tbody>\n",
       "</table>\n",
       "<p>757 rows × 7 columns</p>\n",
       "</div>"
      ],
      "text/plain": [
       "                                               location           district  \\\n",
       "132   город Ташкент, Чиланзарский район, Чиланзар 6-...       Чиланзарский   \n",
       "3771  город Ташкент, Сергелийский район, Сергели-I Я...       Сергелийский   \n",
       "65    город Ташкент, Учтепинский район, Чиланзар 15-...        Учтепинский   \n",
       "7525  город Ташкент, Шайхантахурский район, Алишера ...    Шайхантахурский   \n",
       "6791          город Ташкент, Мирабадский район, Чимкент        Мирабадский   \n",
       "...                                                 ...                ...   \n",
       "5643        город Ташкент, Яккасарайский район, Кушбеги      Яккасарайский   \n",
       "6135  город Ташкент, Сергелийский район, 1-й проезд ...       Сергелийский   \n",
       "1915  город Ташкент, Учтепинский район, Чиланзар 26-...        Учтепинский   \n",
       "6646  город Ташкент, Мирзо-Улугбекский район, 1-й Па...  Мирзо-Улугбекский   \n",
       "5307        город Ташкент, Чиланзарский район, Чапаната       Чиланзарский   \n",
       "\n",
       "      rooms   size  level  max_levels     price  \n",
       "132       2   37.0      1           4   41000.0  \n",
       "3771      1   39.0      5           5   21000.0  \n",
       "65        4  110.0      3           3   91000.0  \n",
       "7525      4   84.0      2           4   95000.0  \n",
       "6791      4  100.0      3           4   88000.0  \n",
       "...     ...    ...    ...         ...       ...  \n",
       "5643      3   80.0      4           5   56000.0  \n",
       "6135      4  135.0      1           3   70500.0  \n",
       "1915      1   42.0      3           5   32000.0  \n",
       "6646      7  192.0      8           9  155000.0  \n",
       "5307      2   45.0      4           4   37000.0  \n",
       "\n",
       "[757 rows x 7 columns]"
      ]
     },
     "execution_count": 23,
     "metadata": {},
     "output_type": "execute_result"
    }
   ],
   "source": [
    "test_set"
   ]
  },
  {
   "cell_type": "code",
   "execution_count": 24,
   "id": "c56a870c",
   "metadata": {},
   "outputs": [],
   "source": [
    "housing=df.copy()"
   ]
  },
  {
   "cell_type": "markdown",
   "id": "1c30e7f8",
   "metadata": {},
   "source": [
    "# Korrelyasiya"
   ]
  },
  {
   "cell_type": "code",
   "execution_count": 25,
   "id": "6596a952",
   "metadata": {},
   "outputs": [
    {
     "data": {
      "text/plain": [
       "price         1.000000\n",
       "rooms         0.055582\n",
       "max_levels    0.010852\n",
       "size          0.001113\n",
       "level        -0.003529\n",
       "dtype: float64"
      ]
     },
     "execution_count": 25,
     "metadata": {},
     "output_type": "execute_result"
    }
   ],
   "source": [
    "housing.corrwith(housing['price']).sort_values(ascending=False)"
   ]
  },
  {
   "cell_type": "code",
   "execution_count": 30,
   "id": "b9ad1153",
   "metadata": {},
   "outputs": [
    {
     "data": {
      "image/png": "[encoded data removed]",
      "text/plain": [
       "<Figure size 1080x1080 with 30 Axes>"
      ]
     },
     "metadata": {
      "needs_background": "light"
     },
     "output_type": "display_data"
    }
   ],
   "source": [
    "import seaborn as sns\n",
    "cols=['price','rooms','max_levels','size',\"level\"]\n",
    "sns.pairplot(housing[cols],height=3);\n"
   ]
  },
  {
   "cell_type": "code",
   "execution_count": 31,
   "id": "6fe04f67",
   "metadata": {},
   "outputs": [],
   "source": [
    "housing['kv_price']=housing['price']/housing['size']\n",
    "housing['qavat_price']=housing['price']/housing['max_levels']"
   ]
  },
  {
   "cell_type": "code",
   "execution_count": 32,
   "id": "88d3d13f",
   "metadata": {},
   "outputs": [
    {
     "data": {
      "text/plain": [
       "price          1.000000\n",
       "qavat_price    0.991606\n",
       "kv_price       0.987857\n",
       "rooms          0.055582\n",
       "max_levels     0.010852\n",
       "size           0.001113\n",
       "level         -0.003529\n",
       "dtype: float64"
      ]
     },
     "execution_count": 32,
     "metadata": {},
     "output_type": "execute_result"
    }
   ],
   "source": [
    "housing.corrwith(housing['price']).sort_values(ascending=False)"
   ]
  },
  {
   "cell_type": "code",
   "execution_count": 33,
   "id": "94b1d895",
   "metadata": {},
   "outputs": [
    {
     "data": {
      "image/png": "[encoded data removed]",
      "text/plain": [
       "<Figure size 1512x1512 with 56 Axes>"
      ]
     },
     "metadata": {
      "needs_background": "light"
     },
     "output_type": "display_data"
    }
   ],
   "source": [
    "import seaborn as sns\n",
    "cols=['price','rooms','max_levels','size',\"level\",'qavat_price','kv_price']\n",
    "sns.pairplot(housing[cols],height=3);\n"
   ]
  },
  {
   "cell_type": "markdown",
   "id": "b9291208",
   "metadata": {},
   "source": [
    "# NaN qiymat mavjud bo`lsa SimpleImputer orqali MEDIAN qiymat beramiz!"
   ]
  },
  {
   "cell_type": "code",
   "execution_count": 39,
   "id": "14730692",
   "metadata": {},
   "outputs": [
    {
     "name": "stdout",
     "output_type": "stream",
     "text": [
      "<class 'pandas.core.frame.DataFrame'>\n",
      "RangeIndex: 7565 entries, 0 to 7564\n",
      "Data columns (total 7 columns):\n",
      " #   Column      Non-Null Count  Dtype  \n",
      "---  ------      --------------  -----  \n",
      " 0   location    7565 non-null   object \n",
      " 1   district    7565 non-null   object \n",
      " 2   rooms       7565 non-null   int64  \n",
      " 3   size        7565 non-null   float64\n",
      " 4   level       7565 non-null   int64  \n",
      " 5   max_levels  7565 non-null   int64  \n",
      " 6   price       7565 non-null   float64\n",
      "dtypes: float64(2), int64(3), object(2)\n",
      "memory usage: 413.8+ KB\n"
     ]
    }
   ],
   "source": [
    "df.info()"
   ]
  },
  {
   "cell_type": "markdown",
   "id": "2404ab9f",
   "metadata": {},
   "source": [
    "# matnli ustunlarni shakl almashtirish"
   ]
  },
  {
   "cell_type": "code",
   "execution_count": null,
   "id": "38641ffc",
   "metadata": {},
   "outputs": [],
   "source": []
  },
  {
   "cell_type": "code",
   "execution_count": 47,
   "id": "5f0451a1",
   "metadata": {},
   "outputs": [],
   "source": [
    "housing_cat=housing[['district']]"
   ]
  },
  {
   "cell_type": "code",
   "execution_count": 48,
   "id": "1b6f73af",
   "metadata": {},
   "outputs": [
    {
     "data": {
      "text/plain": [
       "0     Юнусабадский\n",
       "1    Яккасарайский\n",
       "2     Чиланзарский\n",
       "3     Чиланзарский\n",
       "4     Чиланзарский\n",
       "5     Чиланзарский\n",
       "6     Чиланзарский\n",
       "7    Яккасарайский\n",
       "8      Учтепинский\n",
       "9     Чиланзарский\n",
       "Name: district, dtype: object"
      ]
     },
     "execution_count": 48,
     "metadata": {},
     "output_type": "execute_result"
    }
   ],
   "source": [
    "housing_cat[\"district\"].head(10)"
   ]
  },
  {
   "cell_type": "markdown",
   "id": "fc8fb303",
   "metadata": {},
   "source": [
    "# # ML algoritmlar sonlar bilan ishlaydi.SHuning uchun bu ustunlarni o`zgartiramiz\n",
    "\n",
    "buning 2 usuli bor"
   ]
  },
  {
   "cell_type": "markdown",
   "id": "3d9cb307",
   "metadata": {},
   "source": [
    "# 1-usul"
   ]
  },
  {
   "cell_type": "code",
   "execution_count": 49,
   "id": "1c937161",
   "metadata": {},
   "outputs": [
    {
     "data": {
      "text/plain": [
       "array([[8.],\n",
       "       [9.],\n",
       "       [6.],\n",
       "       [6.],\n",
       "       [6.],\n",
       "       [6.],\n",
       "       [6.],\n",
       "       [9.],\n",
       "       [5.],\n",
       "       [6.]])"
      ]
     },
     "execution_count": 49,
     "metadata": {},
     "output_type": "execute_result"
    }
   ],
   "source": [
    "from sklearn.preprocessing import OrdinalEncoder\n",
    "ordinal_encoder = OrdinalEncoder()\n",
    "housing_cat_encoded = ordinal_encoder.fit_transform(housing_cat)\n",
    "housing_cat_encoded[:10]"
   ]
  },
  {
   "cell_type": "code",
   "execution_count": 50,
   "id": "47ca7930",
   "metadata": {},
   "outputs": [
    {
     "data": {
      "text/plain": [
       "[array(['Бектемирский', 'Мирабадский', 'Мирзо-Улугбекский', 'Олмазорский',\n",
       "        'Сергелийский', 'Учтепинский', 'Чиланзарский', 'Шайхантахурский',\n",
       "        'Юнусабадский', 'Яккасарайский', 'Янгихаётский', 'Яшнободский'],\n",
       "       dtype=object)]"
      ]
     },
     "execution_count": 50,
     "metadata": {},
     "output_type": "execute_result"
    }
   ],
   "source": [
    "ordinal_encoder.categories_"
   ]
  },
  {
   "cell_type": "markdown",
   "id": "c7e9762b",
   "metadata": {},
   "source": [
    "# 2-usul"
   ]
  },
  {
   "cell_type": "code",
   "execution_count": 51,
   "id": "b8671704",
   "metadata": {},
   "outputs": [
    {
     "data": {
      "text/plain": [
       "array([[0., 0., 0., ..., 0., 0., 0.],\n",
       "       [0., 0., 0., ..., 1., 0., 0.],\n",
       "       [0., 0., 0., ..., 0., 0., 0.],\n",
       "       ...,\n",
       "       [0., 0., 0., ..., 0., 0., 0.],\n",
       "       [0., 0., 1., ..., 0., 0., 0.],\n",
       "       [0., 0., 0., ..., 0., 0., 0.]])"
      ]
     },
     "execution_count": 51,
     "metadata": {},
     "output_type": "execute_result"
    }
   ],
   "source": [
    "from sklearn.preprocessing import OneHotEncoder\n",
    "cat_encoder = OneHotEncoder()\n",
    "housing_cat_1hot = cat_encoder.fit_transform(housing_cat)\n",
    "housing_cat_1hot.toarray()"
   ]
  },
  {
   "cell_type": "code",
   "execution_count": 52,
   "id": "45d8a3f3",
   "metadata": {},
   "outputs": [
    {
     "data": {
      "text/html": [
       "<div>\n",
       "<style scoped>\n",
       "    .dataframe tbody tr th:only-of-type {\n",
       "        vertical-align: middle;\n",
       "    }\n",
       "\n",
       "    .dataframe tbody tr th {\n",
       "        vertical-align: top;\n",
       "    }\n",
       "\n",
       "    .dataframe thead th {\n",
       "        text-align: right;\n",
       "    }\n",
       "</style>\n",
       "<table border=\"1\" class=\"dataframe\">\n",
       "  <thead>\n",
       "    <tr style=\"text-align: right;\">\n",
       "      <th></th>\n",
       "      <th>district</th>\n",
       "    </tr>\n",
       "  </thead>\n",
       "  <tbody>\n",
       "    <tr>\n",
       "      <th>0</th>\n",
       "      <td>Юнусабадский</td>\n",
       "    </tr>\n",
       "    <tr>\n",
       "      <th>1</th>\n",
       "      <td>Яккасарайский</td>\n",
       "    </tr>\n",
       "    <tr>\n",
       "      <th>2</th>\n",
       "      <td>Чиланзарский</td>\n",
       "    </tr>\n",
       "    <tr>\n",
       "      <th>3</th>\n",
       "      <td>Чиланзарский</td>\n",
       "    </tr>\n",
       "    <tr>\n",
       "      <th>4</th>\n",
       "      <td>Чиланзарский</td>\n",
       "    </tr>\n",
       "    <tr>\n",
       "      <th>5</th>\n",
       "      <td>Чиланзарский</td>\n",
       "    </tr>\n",
       "    <tr>\n",
       "      <th>6</th>\n",
       "      <td>Чиланзарский</td>\n",
       "    </tr>\n",
       "    <tr>\n",
       "      <th>7</th>\n",
       "      <td>Яккасарайский</td>\n",
       "    </tr>\n",
       "    <tr>\n",
       "      <th>8</th>\n",
       "      <td>Учтепинский</td>\n",
       "    </tr>\n",
       "    <tr>\n",
       "      <th>9</th>\n",
       "      <td>Чиланзарский</td>\n",
       "    </tr>\n",
       "  </tbody>\n",
       "</table>\n",
       "</div>"
      ],
      "text/plain": [
       "        district\n",
       "0   Юнусабадский\n",
       "1  Яккасарайский\n",
       "2   Чиланзарский\n",
       "3   Чиланзарский\n",
       "4   Чиланзарский\n",
       "5   Чиланзарский\n",
       "6   Чиланзарский\n",
       "7  Яккасарайский\n",
       "8    Учтепинский\n",
       "9   Чиланзарский"
      ]
     },
     "execution_count": 52,
     "metadata": {},
     "output_type": "execute_result"
    }
   ],
   "source": [
    "housing_cat.head(10)"
   ]
  },
  {
   "cell_type": "code",
   "execution_count": 53,
   "id": "aa645a63",
   "metadata": {},
   "outputs": [],
   "source": [
    "house_num = housing.drop('district',axis=1)"
   ]
  },
  {
   "cell_type": "markdown",
   "id": "3a43e9b3",
   "metadata": {},
   "source": [
    "#  Standard Scaler - standartlash"
   ]
  },
  {
   "cell_type": "code",
   "execution_count": 54,
   "id": "82de2dd1",
   "metadata": {},
   "outputs": [
    {
     "data": {
      "text/plain": [
       "array([[ 3.44987171e-01, -3.77319924e-02,  1.34425536e-01, ...,\n",
       "        -2.98651429e-02, -5.82247856e-03, -7.11289618e-04],\n",
       "       [-5.76562245e-01, -4.10851877e-02,  1.34425536e-01, ...,\n",
       "        -2.35786286e-02,  1.32888166e-02, -1.49721864e-02],\n",
       "       [-5.76562245e-01, -4.77915784e-02,  1.34425536e-01, ...,\n",
       "        -5.34395718e-02, -9.45899549e-03, -3.04214913e-02],\n",
       "       ...,\n",
       "       [-5.76562245e-01, -3.30375190e-02, -3.12576302e-01, ...,\n",
       "        -4.87246860e-02, -3.91693388e-02, -6.84945646e-02],\n",
       "       [-1.49811166e+00, -6.38869159e-02, -1.20657998e+00, ...,\n",
       "        -9.43019152e-02, -4.07815280e-02, -8.19191742e-02],\n",
       "       [-1.49811166e+00, -5.58392472e-02, -7.59578140e-01, ...,\n",
       "        -7.55775322e-02, -2.30577651e-02, -5.83213514e-02]])"
      ]
     },
     "execution_count": 54,
     "metadata": {},
     "output_type": "execute_result"
    }
   ],
   "source": [
    "from sklearn.preprocessing import StandardScaler\n",
    "standart_scaler = StandardScaler()\n",
    "standart_scaler.fit_transform(house_num)"
   ]
  },
  {
   "cell_type": "code",
   "execution_count": 55,
   "id": "19ea0324",
   "metadata": {},
   "outputs": [],
   "source": [
    "from sklearn.preprocessing import StandardScaler\n",
    "scaler = StandardScaler()"
   ]
  },
  {
   "cell_type": "code",
   "execution_count": 56,
   "id": "54fb801e",
   "metadata": {},
   "outputs": [
    {
     "data": {
      "text/plain": [
       "array([[ 3.44987171e-01, -3.77319924e-02,  1.34425536e-01, ...,\n",
       "        -2.98651429e-02, -5.82247856e-03, -7.11289618e-04],\n",
       "       [-5.76562245e-01, -4.10851877e-02,  1.34425536e-01, ...,\n",
       "        -2.35786286e-02,  1.32888166e-02, -1.49721864e-02],\n",
       "       [-5.76562245e-01, -4.77915784e-02,  1.34425536e-01, ...,\n",
       "        -5.34395718e-02, -9.45899549e-03, -3.04214913e-02],\n",
       "       ...,\n",
       "       [-5.76562245e-01, -3.30375190e-02, -3.12576302e-01, ...,\n",
       "        -4.87246860e-02, -3.91693388e-02, -6.84945646e-02],\n",
       "       [-1.49811166e+00, -6.38869159e-02, -1.20657998e+00, ...,\n",
       "        -9.43019152e-02, -4.07815280e-02, -8.19191742e-02],\n",
       "       [-1.49811166e+00, -5.58392472e-02, -7.59578140e-01, ...,\n",
       "        -7.55775322e-02, -2.30577651e-02, -5.83213514e-02]])"
      ]
     },
     "execution_count": 56,
     "metadata": {},
     "output_type": "execute_result"
    }
   ],
   "source": [
    "scaler.fit_transform(house_num)"
   ]
  },
  {
   "cell_type": "markdown",
   "id": "70d3a43b",
   "metadata": {},
   "source": [
    "# MACHINE LEARNING"
   ]
  },
  {
   "cell_type": "code",
   "execution_count": 57,
   "id": "6a97c4f8",
   "metadata": {},
   "outputs": [
    {
     "data": {
      "text/html": [
       "<div>\n",
       "<style scoped>\n",
       "    .dataframe tbody tr th:only-of-type {\n",
       "        vertical-align: middle;\n",
       "    }\n",
       "\n",
       "    .dataframe tbody tr th {\n",
       "        vertical-align: top;\n",
       "    }\n",
       "\n",
       "    .dataframe thead th {\n",
       "        text-align: right;\n",
       "    }\n",
       "</style>\n",
       "<table border=\"1\" class=\"dataframe\">\n",
       "  <thead>\n",
       "    <tr style=\"text-align: right;\">\n",
       "      <th></th>\n",
       "      <th>location</th>\n",
       "      <th>district</th>\n",
       "      <th>rooms</th>\n",
       "      <th>size</th>\n",
       "      <th>level</th>\n",
       "      <th>max_levels</th>\n",
       "      <th>price</th>\n",
       "    </tr>\n",
       "  </thead>\n",
       "  <tbody>\n",
       "    <tr>\n",
       "      <th>0</th>\n",
       "      <td>город Ташкент, Юнусабадский район, Юнусабад 8-...</td>\n",
       "      <td>Юнусабадский</td>\n",
       "      <td>3</td>\n",
       "      <td>57</td>\n",
       "      <td>4</td>\n",
       "      <td>4</td>\n",
       "      <td>52000</td>\n",
       "    </tr>\n",
       "    <tr>\n",
       "      <th>1</th>\n",
       "      <td>город Ташкент, Яккасарайский район, 1-й тупик ...</td>\n",
       "      <td>Яккасарайский</td>\n",
       "      <td>2</td>\n",
       "      <td>52</td>\n",
       "      <td>4</td>\n",
       "      <td>5</td>\n",
       "      <td>56000</td>\n",
       "    </tr>\n",
       "    <tr>\n",
       "      <th>2</th>\n",
       "      <td>город Ташкент, Чиланзарский район, Чиланзар 2-...</td>\n",
       "      <td>Чиланзарский</td>\n",
       "      <td>2</td>\n",
       "      <td>42</td>\n",
       "      <td>4</td>\n",
       "      <td>4</td>\n",
       "      <td>37000</td>\n",
       "    </tr>\n",
       "    <tr>\n",
       "      <th>3</th>\n",
       "      <td>город Ташкент, Чиланзарский район, Чиланзар 9-...</td>\n",
       "      <td>Чиланзарский</td>\n",
       "      <td>3</td>\n",
       "      <td>65</td>\n",
       "      <td>1</td>\n",
       "      <td>4</td>\n",
       "      <td>49500</td>\n",
       "    </tr>\n",
       "    <tr>\n",
       "      <th>4</th>\n",
       "      <td>город Ташкент, Чиланзарский район, площадь Актепа</td>\n",
       "      <td>Чиланзарский</td>\n",
       "      <td>3</td>\n",
       "      <td>70</td>\n",
       "      <td>3</td>\n",
       "      <td>5</td>\n",
       "      <td>55000</td>\n",
       "    </tr>\n",
       "  </tbody>\n",
       "</table>\n",
       "</div>"
      ],
      "text/plain": [
       "                                            location       district  rooms  \\\n",
       "0  город Ташкент, Юнусабадский район, Юнусабад 8-...   Юнусабадский      3   \n",
       "1  город Ташкент, Яккасарайский район, 1-й тупик ...  Яккасарайский      2   \n",
       "2  город Ташкент, Чиланзарский район, Чиланзар 2-...   Чиланзарский      2   \n",
       "3  город Ташкент, Чиланзарский район, Чиланзар 9-...   Чиланзарский      3   \n",
       "4  город Ташкент, Чиланзарский район, площадь Актепа   Чиланзарский      3   \n",
       "\n",
       "  size  level  max_levels  price  \n",
       "0   57      4           4  52000  \n",
       "1   52      4           5  56000  \n",
       "2   42      4           4  37000  \n",
       "3   65      1           4  49500  \n",
       "4   70      3           5  55000  "
      ]
     },
     "execution_count": 57,
     "metadata": {},
     "output_type": "execute_result"
    }
   ],
   "source": [
    "df.head()"
   ]
  },
  {
   "cell_type": "code",
   "execution_count": 58,
   "id": "4251bee5",
   "metadata": {},
   "outputs": [
    {
     "name": "stdout",
     "output_type": "stream",
     "text": [
      "<class 'pandas.core.frame.DataFrame'>\n",
      "RangeIndex: 7565 entries, 0 to 7564\n",
      "Data columns (total 7 columns):\n",
      " #   Column      Non-Null Count  Dtype \n",
      "---  ------      --------------  ----- \n",
      " 0   location    7565 non-null   object\n",
      " 1   district    7565 non-null   object\n",
      " 2   rooms       7565 non-null   int64 \n",
      " 3   size        7565 non-null   object\n",
      " 4   level       7565 non-null   int64 \n",
      " 5   max_levels  7565 non-null   int64 \n",
      " 6   price       7565 non-null   object\n",
      "dtypes: int64(3), object(4)\n",
      "memory usage: 413.8+ KB\n"
     ]
    }
   ],
   "source": [
    "df.info()"
   ]
  },
  {
   "cell_type": "code",
   "execution_count": 59,
   "id": "e0ccc7e9",
   "metadata": {},
   "outputs": [
    {
     "name": "stdout",
     "output_type": "stream",
     "text": [
      "<class 'pandas.core.frame.DataFrame'>\n",
      "RangeIndex: 7565 entries, 0 to 7564\n",
      "Data columns (total 8 columns):\n",
      " #   Column       Non-Null Count  Dtype  \n",
      "---  ------       --------------  -----  \n",
      " 0   district     7565 non-null   object \n",
      " 1   rooms        7565 non-null   int64  \n",
      " 2   size         7565 non-null   float64\n",
      " 3   level        7565 non-null   int64  \n",
      " 4   max_levels   7565 non-null   int64  \n",
      " 5   price        7565 non-null   float64\n",
      " 6   kv_price     7565 non-null   float64\n",
      " 7   qavat_price  7565 non-null   float64\n",
      "dtypes: float64(4), int64(3), object(1)\n",
      "memory usage: 472.9+ KB\n"
     ]
    }
   ],
   "source": [
    "housing.info()"
   ]
  },
  {
   "cell_type": "code",
   "execution_count": 60,
   "id": "127301de",
   "metadata": {},
   "outputs": [
    {
     "data": {
      "text/html": [
       "<div>\n",
       "<style scoped>\n",
       "    .dataframe tbody tr th:only-of-type {\n",
       "        vertical-align: middle;\n",
       "    }\n",
       "\n",
       "    .dataframe tbody tr th {\n",
       "        vertical-align: top;\n",
       "    }\n",
       "\n",
       "    .dataframe thead th {\n",
       "        text-align: right;\n",
       "    }\n",
       "</style>\n",
       "<table border=\"1\" class=\"dataframe\">\n",
       "  <thead>\n",
       "    <tr style=\"text-align: right;\">\n",
       "      <th></th>\n",
       "      <th>district</th>\n",
       "      <th>rooms</th>\n",
       "      <th>size</th>\n",
       "      <th>level</th>\n",
       "      <th>max_levels</th>\n",
       "      <th>price</th>\n",
       "      <th>kv_price</th>\n",
       "      <th>qavat_price</th>\n",
       "    </tr>\n",
       "  </thead>\n",
       "  <tbody>\n",
       "    <tr>\n",
       "      <th>0</th>\n",
       "      <td>Юнусабадский</td>\n",
       "      <td>3</td>\n",
       "      <td>57.0</td>\n",
       "      <td>4</td>\n",
       "      <td>4</td>\n",
       "      <td>52000.0</td>\n",
       "      <td>912.280702</td>\n",
       "      <td>13000.0</td>\n",
       "    </tr>\n",
       "    <tr>\n",
       "      <th>1</th>\n",
       "      <td>Яккасарайский</td>\n",
       "      <td>2</td>\n",
       "      <td>52.0</td>\n",
       "      <td>4</td>\n",
       "      <td>5</td>\n",
       "      <td>56000.0</td>\n",
       "      <td>1076.923077</td>\n",
       "      <td>11200.0</td>\n",
       "    </tr>\n",
       "    <tr>\n",
       "      <th>2</th>\n",
       "      <td>Чиланзарский</td>\n",
       "      <td>2</td>\n",
       "      <td>42.0</td>\n",
       "      <td>4</td>\n",
       "      <td>4</td>\n",
       "      <td>37000.0</td>\n",
       "      <td>880.952381</td>\n",
       "      <td>9250.0</td>\n",
       "    </tr>\n",
       "    <tr>\n",
       "      <th>3</th>\n",
       "      <td>Чиланзарский</td>\n",
       "      <td>3</td>\n",
       "      <td>65.0</td>\n",
       "      <td>1</td>\n",
       "      <td>4</td>\n",
       "      <td>49500.0</td>\n",
       "      <td>761.538462</td>\n",
       "      <td>12375.0</td>\n",
       "    </tr>\n",
       "    <tr>\n",
       "      <th>4</th>\n",
       "      <td>Чиланзарский</td>\n",
       "      <td>3</td>\n",
       "      <td>70.0</td>\n",
       "      <td>3</td>\n",
       "      <td>5</td>\n",
       "      <td>55000.0</td>\n",
       "      <td>785.714286</td>\n",
       "      <td>11000.0</td>\n",
       "    </tr>\n",
       "  </tbody>\n",
       "</table>\n",
       "</div>"
      ],
      "text/plain": [
       "        district  rooms  size  level  max_levels    price     kv_price  \\\n",
       "0   Юнусабадский      3  57.0      4           4  52000.0   912.280702   \n",
       "1  Яккасарайский      2  52.0      4           5  56000.0  1076.923077   \n",
       "2   Чиланзарский      2  42.0      4           4  37000.0   880.952381   \n",
       "3   Чиланзарский      3  65.0      1           4  49500.0   761.538462   \n",
       "4   Чиланзарский      3  70.0      3           5  55000.0   785.714286   \n",
       "\n",
       "   qavat_price  \n",
       "0      13000.0  \n",
       "1      11200.0  \n",
       "2       9250.0  \n",
       "3      12375.0  \n",
       "4      11000.0  "
      ]
     },
     "execution_count": 60,
     "metadata": {},
     "output_type": "execute_result"
    }
   ],
   "source": [
    "housing.head()"
   ]
  },
  {
   "cell_type": "code",
   "execution_count": 61,
   "id": "2014daa4",
   "metadata": {},
   "outputs": [],
   "source": [
    "from sklearn.impute import SimpleImputer\n",
    "from sklearn.model_selection import train_test_split\n",
    "from sklearn.preprocessing import StandardScaler , OneHotEncoder\n",
    "from sklearn.pipeline import Pipeline "
   ]
  },
  {
   "cell_type": "code",
   "execution_count": 62,
   "id": "b29c7eee",
   "metadata": {},
   "outputs": [
    {
     "data": {
      "text/plain": [
       "(6808, 8)"
      ]
     },
     "execution_count": 62,
     "metadata": {},
     "output_type": "execute_result"
    }
   ],
   "source": [
    "train_set , test_set = train_test_split(housing , test_size = 0.1 , random_state = 42)\n",
    "\n",
    "train_set.shape\n",
    "\n"
   ]
  },
  {
   "cell_type": "code",
   "execution_count": 64,
   "id": "d5852249",
   "metadata": {},
   "outputs": [
    {
     "data": {
      "text/plain": [
       "(6808, 8)"
      ]
     },
     "execution_count": 64,
     "metadata": {},
     "output_type": "execute_result"
    }
   ],
   "source": [
    "train_set.shape"
   ]
  },
  {
   "cell_type": "code",
   "execution_count": 65,
   "id": "5dd532af",
   "metadata": {},
   "outputs": [
    {
     "data": {
      "text/plain": [
       "(757, 8)"
      ]
     },
     "execution_count": 65,
     "metadata": {},
     "output_type": "execute_result"
    }
   ],
   "source": [
    "test_set.shape"
   ]
  },
  {
   "cell_type": "code",
   "execution_count": 66,
   "id": "6c8beec3",
   "metadata": {},
   "outputs": [],
   "source": [
    "x_train = train_set.drop('price',axis=1)\n",
    "y= train_set['price'].copy()\n",
    "\n",
    "x_num = x_train.drop('district',axis=1)"
   ]
  },
  {
   "cell_type": "markdown",
   "id": "32f96132",
   "metadata": {},
   "source": [
    "# pipline"
   ]
  },
  {
   "cell_type": "code",
   "execution_count": 75,
   "id": "7d823575",
   "metadata": {},
   "outputs": [],
   "source": [
    "num_pipeline=Pipeline([\n",
    "    ('simple',SimpleImputer(strategy='median')),\n",
    "    (\"standard\",StandardScaler())\n",
    "])"
   ]
  },
  {
   "cell_type": "code",
   "execution_count": 76,
   "id": "4061ea6f",
   "metadata": {},
   "outputs": [
    {
     "data": {
      "text/plain": [
       "array([[ 1.26570754e+00, -7.68737459e-03,  2.37607259e+00,\n",
       "         1.14589833e+00, -4.85235445e-02, -5.69705961e-02],\n",
       "       [-5.78671084e-01, -2.70165877e-02, -3.11169592e-01,\n",
       "         1.14589833e+00, -5.47316047e-02, -7.28408922e-02],\n",
       "       [-5.78671084e-01, -3.73715233e-02,  1.36704104e-01,\n",
       "        -3.97762483e-01, -1.25942053e-02, -3.12440109e-02],\n",
       "       ...,\n",
       "       [-5.78671084e-01, -4.01328394e-02, -1.20691699e+00,\n",
       "        -1.16959289e+00,  2.33015634e-02,  4.61863284e-02],\n",
       "       [-5.78671084e-01, -3.25392200e-02, -3.11169592e-01,\n",
       "        -7.83677686e-01, -1.08973015e-02, -7.98100793e-04],\n",
       "       [ 3.43518228e-01, -1.04486907e-02, -7.59043289e-01,\n",
       "         1.14589833e+00, -4.83240416e-02, -5.86411536e-02]])"
      ]
     },
     "execution_count": 76,
     "metadata": {},
     "output_type": "execute_result"
    }
   ],
   "source": [
    "num_pipeline.fit_transform(x_num)"
   ]
  },
  {
   "cell_type": "code",
   "execution_count": 77,
   "id": "11cf8802",
   "metadata": {},
   "outputs": [],
   "source": [
    "from sklearn.compose import ColumnTransformer\n",
    "\n",
    "num = list(x_num)\n",
    "strlar = ['district']"
   ]
  },
  {
   "cell_type": "code",
   "execution_count": 79,
   "id": "ee671030",
   "metadata": {},
   "outputs": [
    {
     "data": {
      "text/plain": [
       "['district']"
      ]
     },
     "execution_count": 79,
     "metadata": {},
     "output_type": "execute_result"
    }
   ],
   "source": [
    "strlar"
   ]
  },
  {
   "cell_type": "code",
   "execution_count": 80,
   "id": "982ca930",
   "metadata": {},
   "outputs": [],
   "source": [
    "full_pipeline = ColumnTransformer([\n",
    "    ('num',num_pipeline,num),\n",
    "    ('str',OneHotEncoder(),strlar)\n",
    "])"
   ]
  },
  {
   "cell_type": "code",
   "execution_count": 81,
   "id": "55d87f46",
   "metadata": {},
   "outputs": [],
   "source": [
    "x_prepared = full_pipeline.fit_transform(x_train)"
   ]
  },
  {
   "cell_type": "code",
   "execution_count": 82,
   "id": "9769a1b4",
   "metadata": {},
   "outputs": [
    {
     "data": {
      "text/plain": [
       "array([[ 1.26570754, -0.00768737,  2.37607259, ...,  1.        ,\n",
       "         0.        ,  0.        ],\n",
       "       [-0.57867108, -0.02701659, -0.31116959, ...,  0.        ,\n",
       "         0.        ,  0.        ],\n",
       "       [-0.57867108, -0.03737152,  0.1367041 , ...,  1.        ,\n",
       "         0.        ,  0.        ],\n",
       "       ...,\n",
       "       [-0.57867108, -0.04013284, -1.20691699, ...,  0.        ,\n",
       "         0.        ,  0.        ],\n",
       "       [-0.57867108, -0.03253922, -0.31116959, ...,  0.        ,\n",
       "         0.        ,  0.        ],\n",
       "       [ 0.34351823, -0.01044869, -0.75904329, ...,  0.        ,\n",
       "         0.        ,  0.        ]])"
      ]
     },
     "execution_count": 82,
     "metadata": {},
     "output_type": "execute_result"
    }
   ],
   "source": [
    "x_prepared"
   ]
  },
  {
   "cell_type": "code",
   "execution_count": 88,
   "id": "d4f95b07",
   "metadata": {},
   "outputs": [
    {
     "data": {
      "text/plain": [
       "3399     52000.0\n",
       "6875     33000.0\n",
       "4927     46000.0\n",
       "1575     67000.0\n",
       "1662    120000.0\n",
       "7326     38000.0\n",
       "500      74000.0\n",
       "Name: price, dtype: float64"
      ]
     },
     "execution_count": 88,
     "metadata": {},
     "output_type": "execute_result"
    }
   ],
   "source": [
    "y[:7]"
   ]
  },
  {
   "cell_type": "markdown",
   "id": "d51eae6c",
   "metadata": {},
   "source": [
    "# LinearRegression"
   ]
  },
  {
   "cell_type": "code",
   "execution_count": 89,
   "id": "c132fc70",
   "metadata": {},
   "outputs": [],
   "source": [
    "from sklearn.linear_model import LinearRegression\n",
    "LR_model = LinearRegression()"
   ]
  },
  {
   "cell_type": "code",
   "execution_count": 91,
   "id": "120a4b66",
   "metadata": {},
   "outputs": [
    {
     "data": {
      "text/plain": [
       "LinearRegression()"
      ]
     },
     "execution_count": 91,
     "metadata": {},
     "output_type": "execute_result"
    }
   ],
   "source": [
    "LR_model.fit(x_prepared , y)"
   ]
  },
  {
   "cell_type": "markdown",
   "id": "dacf175a",
   "metadata": {},
   "source": [
    "# DecisionTree"
   ]
  },
  {
   "cell_type": "code",
   "execution_count": 92,
   "id": "521970c2",
   "metadata": {},
   "outputs": [],
   "source": [
    "from sklearn.tree import DecisionTreeRegressor\n",
    "DT_model = DecisionTreeRegressor()"
   ]
  },
  {
   "cell_type": "code",
   "execution_count": 93,
   "id": "475793a4",
   "metadata": {},
   "outputs": [
    {
     "data": {
      "text/plain": [
       "DecisionTreeRegressor()"
      ]
     },
     "execution_count": 93,
     "metadata": {},
     "output_type": "execute_result"
    }
   ],
   "source": [
    "DT_model.fit(x_prepared , y)"
   ]
  },
  {
   "cell_type": "markdown",
   "id": "31af3c61",
   "metadata": {},
   "source": [
    "# RandomForest"
   ]
  },
  {
   "cell_type": "code",
   "execution_count": 94,
   "id": "d644758a",
   "metadata": {},
   "outputs": [],
   "source": [
    "from sklearn.ensemble import RandomForestRegressor\n",
    "RF_model = RandomForestRegressor()"
   ]
  },
  {
   "cell_type": "code",
   "execution_count": 95,
   "id": "fe000914",
   "metadata": {},
   "outputs": [
    {
     "data": {
      "text/plain": [
       "RandomForestRegressor()"
      ]
     },
     "execution_count": 95,
     "metadata": {},
     "output_type": "execute_result"
    }
   ],
   "source": [
    "RF_model.fit(x_prepared, y)"
   ]
  },
  {
   "cell_type": "markdown",
   "id": "3c4df9f5",
   "metadata": {},
   "source": [
    "# Test Model"
   ]
  },
  {
   "cell_type": "code",
   "execution_count": 96,
   "id": "351f772e",
   "metadata": {},
   "outputs": [],
   "source": [
    "from sklearn.metrics import mean_absolute_error\n",
    "x_test = test_set.drop('price' ,axis=1)\n",
    "y_test = test_set['price'].copy()"
   ]
  },
  {
   "cell_type": "code",
   "execution_count": 97,
   "id": "289bd9fd",
   "metadata": {},
   "outputs": [],
   "source": [
    "x_test_prepared = full_pipeline.fit_transform(x_test)"
   ]
  },
  {
   "cell_type": "markdown",
   "id": "03a27593",
   "metadata": {},
   "source": [
    "# 1-usul"
   ]
  },
  {
   "cell_type": "code",
   "execution_count": 98,
   "id": "884ae61e",
   "metadata": {},
   "outputs": [],
   "source": [
    "linear = LR_model.predict(x_test_prepared)"
   ]
  },
  {
   "cell_type": "code",
   "execution_count": 99,
   "id": "5fcce881",
   "metadata": {},
   "outputs": [
    {
     "data": {
      "text/html": [
       "<div>\n",
       "<style scoped>\n",
       "    .dataframe tbody tr th:only-of-type {\n",
       "        vertical-align: middle;\n",
       "    }\n",
       "\n",
       "    .dataframe tbody tr th {\n",
       "        vertical-align: top;\n",
       "    }\n",
       "\n",
       "    .dataframe thead th {\n",
       "        text-align: right;\n",
       "    }\n",
       "</style>\n",
       "<table border=\"1\" class=\"dataframe\">\n",
       "  <thead>\n",
       "    <tr style=\"text-align: right;\">\n",
       "      <th></th>\n",
       "      <th>make:</th>\n",
       "      <th>orginal:</th>\n",
       "    </tr>\n",
       "  </thead>\n",
       "  <tbody>\n",
       "    <tr>\n",
       "      <th>132</th>\n",
       "      <td>2.845443e+05</td>\n",
       "      <td>41000.0</td>\n",
       "    </tr>\n",
       "    <tr>\n",
       "      <th>3771</th>\n",
       "      <td>-5.097052e+05</td>\n",
       "      <td>21000.0</td>\n",
       "    </tr>\n",
       "    <tr>\n",
       "      <th>65</th>\n",
       "      <td>1.186639e+06</td>\n",
       "      <td>91000.0</td>\n",
       "    </tr>\n",
       "    <tr>\n",
       "      <th>7525</th>\n",
       "      <td>1.083095e+06</td>\n",
       "      <td>95000.0</td>\n",
       "    </tr>\n",
       "    <tr>\n",
       "      <th>6791</th>\n",
       "      <td>7.834976e+05</td>\n",
       "      <td>88000.0</td>\n",
       "    </tr>\n",
       "    <tr>\n",
       "      <th>...</th>\n",
       "      <td>...</td>\n",
       "      <td>...</td>\n",
       "    </tr>\n",
       "    <tr>\n",
       "      <th>5643</th>\n",
       "      <td>2.999719e+04</td>\n",
       "      <td>56000.0</td>\n",
       "    </tr>\n",
       "    <tr>\n",
       "      <th>6135</th>\n",
       "      <td>5.649631e+05</td>\n",
       "      <td>70500.0</td>\n",
       "    </tr>\n",
       "    <tr>\n",
       "      <th>1915</th>\n",
       "      <td>-2.089966e+05</td>\n",
       "      <td>32000.0</td>\n",
       "    </tr>\n",
       "    <tr>\n",
       "      <th>6646</th>\n",
       "      <td>5.057949e+05</td>\n",
       "      <td>155000.0</td>\n",
       "    </tr>\n",
       "    <tr>\n",
       "      <th>5307</th>\n",
       "      <td>1.793622e+03</td>\n",
       "      <td>37000.0</td>\n",
       "    </tr>\n",
       "  </tbody>\n",
       "</table>\n",
       "<p>757 rows × 2 columns</p>\n",
       "</div>"
      ],
      "text/plain": [
       "             make:  orginal:\n",
       "132   2.845443e+05   41000.0\n",
       "3771 -5.097052e+05   21000.0\n",
       "65    1.186639e+06   91000.0\n",
       "7525  1.083095e+06   95000.0\n",
       "6791  7.834976e+05   88000.0\n",
       "...            ...       ...\n",
       "5643  2.999719e+04   56000.0\n",
       "6135  5.649631e+05   70500.0\n",
       "1915 -2.089966e+05   32000.0\n",
       "6646  5.057949e+05  155000.0\n",
       "5307  1.793622e+03   37000.0\n",
       "\n",
       "[757 rows x 2 columns]"
      ]
     },
     "execution_count": 99,
     "metadata": {},
     "output_type": "execute_result"
    }
   ],
   "source": [
    "pd.DataFrame({\"make:\":linear,\"orginal:\":y_test})"
   ]
  },
  {
   "cell_type": "code",
   "execution_count": 101,
   "id": "b8a90c2a",
   "metadata": {},
   "outputs": [
    {
     "data": {
      "text/plain": [
       "603.5534478821148"
      ]
     },
     "execution_count": 101,
     "metadata": {},
     "output_type": "execute_result"
    }
   ],
   "source": [
    "import numpy as np\n",
    "a = mean_absolute_error(y_test,linear)\n",
    "linear_error = np.sqrt(a)\n",
    "linear_error"
   ]
  },
  {
   "cell_type": "markdown",
   "id": "4e43f04c",
   "metadata": {},
   "source": [
    "# 2-usul"
   ]
  },
  {
   "cell_type": "code",
   "execution_count": 102,
   "id": "0d8529b9",
   "metadata": {},
   "outputs": [],
   "source": [
    "\n",
    "\n",
    "tree = DT_model.predict(x_test_prepared)\n",
    "\n"
   ]
  },
  {
   "cell_type": "code",
   "execution_count": 103,
   "id": "b41c137c",
   "metadata": {},
   "outputs": [
    {
     "data": {
      "text/plain": [
       "array([2.7000e+04, 7.3000e+03, 1.3440e+06, 2.3000e+05, 6.4400e+05,\n",
       "       7.3000e+03, 7.3000e+03, 5.6000e+04, 1.0000e+04, 2.8640e+03,\n",
       "       3.0000e+05, 3.5000e+04, 1.0000e+04, 1.3067e+04, 2.4000e+03,\n",
       "       1.0000e+04, 4.5000e+04, 3.7500e+05, 1.2500e+05, 8.9990e+03,\n",
       "       1.3067e+04, 4.2000e+05, 1.3067e+04, 2.4000e+03, 1.2500e+05,\n",
       "       7.3000e+03, 7.3000e+03, 8.9990e+03, 2.3000e+05, 4.8499e+04,\n",
       "       4.2400e+06, 2.8640e+03, 1.7000e+04, 1.0000e+04, 1.0000e+04,\n",
       "       7.3000e+03, 4.4500e+04, 2.9500e+05, 6.4400e+05, 7.3000e+03,\n",
       "       8.0000e+03, 7.3000e+03, 1.0000e+04, 1.0000e+04, 8.9990e+03,\n",
       "       8.9990e+03, 1.4000e+05, 4.2400e+06, 8.9990e+03, 1.3067e+04,\n",
       "       2.3000e+05, 6.4400e+05, 1.4500e+04, 2.0000e+00, 2.8640e+03,\n",
       "       2.6500e+05, 4.5000e+04, 2.8640e+03, 4.3000e+04, 5.0000e+04,\n",
       "       2.3000e+05, 8.9990e+03, 2.8640e+03, 2.3000e+05, 1.3067e+04,\n",
       "       6.4400e+05, 1.6660e+06, 1.3067e+04, 4.2000e+05, 2.6000e+04,\n",
       "       1.3067e+04, 1.3067e+04, 8.9990e+03, 2.2500e+05, 2.8640e+03,\n",
       "       4.2000e+05, 7.3000e+03, 8.9990e+03, 1.0000e+04, 1.6660e+06,\n",
       "       8.9990e+03, 1.0000e+04, 3.5000e+04, 7.3000e+03, 1.7000e+04,\n",
       "       1.4000e+04, 3.2000e+05, 3.7800e+06, 1.3000e+04, 1.4000e+04,\n",
       "       2.9500e+05, 1.9200e+05, 3.0000e+05, 1.3440e+06, 1.6000e+04,\n",
       "       1.3440e+06, 7.3000e+03, 2.3000e+05, 1.0000e+04, 1.4000e+04,\n",
       "       2.4000e+03, 1.0000e+04, 1.0000e+04, 1.3067e+04, 3.7800e+06,\n",
       "       1.0000e+03, 3.0000e+05, 8.9000e+04, 6.4400e+05, 7.3000e+03,\n",
       "       4.5000e+04, 4.5000e+04, 1.3067e+04, 2.3000e+05, 7.3000e+03,\n",
       "       2.5000e+05, 1.6660e+06, 1.2500e+04, 2.4000e+03, 1.6000e+04,\n",
       "       6.5000e+04, 1.0000e+04, 1.6000e+04, 1.6660e+06, 2.1000e+05,\n",
       "       9.0000e+04, 2.8640e+03, 8.9990e+03, 7.3000e+03, 2.7000e+04,\n",
       "       8.9990e+03, 1.7500e+05, 1.3000e+04, 1.6660e+06, 2.3000e+05,\n",
       "       4.6600e+04, 3.5000e+04, 3.0000e+05, 2.4000e+03, 1.3700e+04,\n",
       "       1.8600e+04, 4.6000e+04, 7.3000e+03, 2.8640e+03, 7.3000e+03,\n",
       "       6.4400e+05, 3.0000e+05, 5.6000e+04, 1.6500e+05, 6.4400e+05,\n",
       "       7.3000e+03, 8.9990e+03, 2.3000e+05, 8.9990e+03, 1.9200e+05,\n",
       "       4.2000e+05, 6.4400e+05, 3.0000e+05, 2.2500e+04, 1.2500e+05,\n",
       "       7.3000e+03, 1.0000e+04, 2.3000e+05, 2.3000e+05, 5.0000e+04,\n",
       "       1.7000e+04, 1.4000e+04, 5.0000e+04, 2.4000e+03, 1.4500e+04,\n",
       "       7.3000e+03, 3.0000e+05, 1.2500e+04, 6.9000e+04, 2.0000e+05,\n",
       "       1.4500e+04, 3.0000e+05, 2.9500e+05, 7.3000e+03, 1.6000e+04,\n",
       "       4.5000e+04, 6.4400e+05, 1.0000e+04, 5.0000e+04, 2.7000e+04,\n",
       "       7.3000e+03, 7.3000e+03, 2.8640e+03, 1.3300e+05, 1.6500e+05,\n",
       "       1.6660e+06, 7.3000e+03, 3.3500e+05, 2.8640e+03, 1.0000e+04,\n",
       "       8.9990e+03, 2.3000e+05, 1.0000e+04, 2.7000e+04, 8.9990e+03,\n",
       "       1.0000e+04, 8.9990e+03, 2.7000e+04, 2.7000e+04, 2.3000e+05,\n",
       "       1.3000e+04, 1.7000e+04, 2.8640e+03, 4.2400e+06, 6.5000e+04,\n",
       "       2.3000e+05, 1.3440e+06, 1.3067e+04, 4.2000e+05, 4.2000e+05,\n",
       "       8.1000e+04, 8.9990e+03, 2.4000e+04, 5.0400e+05, 7.3000e+03,\n",
       "       7.3000e+03, 1.4000e+04, 2.7000e+04, 4.5000e+04, 1.3067e+04,\n",
       "       1.0000e+04, 7.3000e+03, 2.8640e+03, 1.0500e+04, 3.0000e+05,\n",
       "       1.6660e+06, 2.3000e+05, 2.1000e+05, 1.6660e+06, 2.3000e+05,\n",
       "       3.3500e+04, 2.3000e+05, 5.0000e+04, 2.4000e+03, 4.2400e+06,\n",
       "       1.0000e+04, 1.3067e+04, 1.3067e+04, 1.3067e+04, 6.4400e+05,\n",
       "       7.4900e+04, 6.4400e+05, 4.5000e+04, 7.3000e+03, 4.5000e+04,\n",
       "       2.5000e+05, 3.5000e+04, 7.3000e+03, 1.3000e+04, 6.4400e+05,\n",
       "       5.6000e+04, 1.0000e+04, 1.6500e+05, 1.3067e+04, 3.7500e+05,\n",
       "       8.1000e+04, 1.8500e+04, 1.7000e+04, 4.5000e+04, 4.5000e+04,\n",
       "       1.6500e+05, 3.5000e+04, 2.4000e+04, 3.5000e+04, 1.8500e+04,\n",
       "       3.0000e+05, 7.3000e+03, 2.8640e+03, 4.6600e+04, 2.3000e+05,\n",
       "       5.6000e+04, 4.5000e+04, 1.4500e+04, 2.8640e+03, 2.8640e+03,\n",
       "       3.5000e+04, 7.3000e+03, 3.0000e+05, 2.3000e+05, 2.7000e+04,\n",
       "       2.5000e+05, 3.3000e+04, 2.7000e+04, 7.3000e+03, 7.3000e+03,\n",
       "       1.7500e+05, 1.3067e+04, 1.5000e+04, 2.7000e+04, 7.3000e+03,\n",
       "       1.7500e+05, 1.6000e+04, 2.8640e+03, 1.0500e+04, 6.4400e+05,\n",
       "       1.0000e+04, 8.9990e+03, 1.8600e+04, 2.8640e+03, 1.0000e+04,\n",
       "       2.3000e+05, 3.0000e+05, 5.6000e+04, 7.3000e+03, 1.0000e+04,\n",
       "       7.3000e+03, 7.3000e+03, 8.9990e+03, 2.3000e+05, 2.7000e+04,\n",
       "       1.6000e+05, 1.4000e+04, 1.3000e+04, 3.3000e+04, 1.0000e+04,\n",
       "       8.9990e+03, 7.3000e+03, 7.3000e+03, 1.4500e+04, 1.0000e+04,\n",
       "       3.7500e+05, 2.5000e+05, 4.5000e+04, 1.0000e+04, 1.3000e+04,\n",
       "       1.6000e+04, 2.7000e+04, 5.6000e+04, 3.2000e+05, 1.4000e+04,\n",
       "       1.7000e+05, 8.9990e+03, 8.9990e+03, 3.5000e+04, 7.3000e+03,\n",
       "       1.0000e+04, 3.3500e+05, 7.3000e+03, 6.4400e+05, 8.1000e+04,\n",
       "       1.0000e+04, 6.4400e+05, 7.3000e+03, 1.0000e+04, 4.5000e+04,\n",
       "       2.7000e+04, 8.1000e+04, 2.8640e+03, 1.0000e+04, 6.0000e+04,\n",
       "       2.3000e+05, 5.0000e+04, 1.3067e+04, 1.1000e+05, 8.1000e+04,\n",
       "       6.4400e+05, 1.5504e+07, 1.3067e+04, 4.5000e+04, 6.4400e+05,\n",
       "       1.4000e+05, 1.3067e+04, 1.3067e+04, 8.1000e+04, 8.9990e+03,\n",
       "       5.0000e+04, 7.3000e+03, 1.3067e+04, 7.3000e+03, 8.1000e+04,\n",
       "       3.5000e+04, 2.0000e+00, 1.2500e+04, 2.4000e+03, 1.3067e+04,\n",
       "       1.0000e+04, 8.9990e+03, 7.3000e+03, 2.3000e+05, 5.0000e+04,\n",
       "       1.0000e+04, 7.3000e+03, 4.2400e+06, 5.0000e+04, 1.3067e+04,\n",
       "       3.0000e+05, 1.6660e+06, 3.0000e+05, 1.6500e+05, 1.3440e+06,\n",
       "       8.9990e+03, 1.0000e+04, 5.0000e+04, 3.3000e+04, 3.2000e+05,\n",
       "       1.3067e+04, 7.3000e+03, 2.4000e+04, 6.4400e+05, 2.8640e+03,\n",
       "       1.3067e+04, 7.3000e+03, 7.3000e+03, 3.0000e+05, 5.0000e+04,\n",
       "       2.4000e+04, 6.4400e+05, 1.8600e+04, 1.4000e+04, 3.7500e+05,\n",
       "       6.4400e+05, 1.3440e+06, 1.2500e+04, 2.3000e+05, 2.8640e+03,\n",
       "       1.9000e+04, 2.8640e+03, 1.3067e+04, 2.9000e+04, 4.6600e+04,\n",
       "       1.5000e+05, 7.3000e+03, 1.3067e+04, 1.0000e+04, 2.3000e+05,\n",
       "       7.3000e+03, 2.1000e+05, 2.8640e+03, 8.1000e+04, 1.0000e+04,\n",
       "       2.4000e+03, 5.0000e+04, 3.0000e+05, 2.8640e+03, 1.6500e+05,\n",
       "       2.8640e+03, 3.3000e+04, 2.3000e+05, 6.4400e+05, 5.0000e+04,\n",
       "       5.0000e+04, 8.9990e+03, 4.2000e+05, 8.9990e+03, 7.3000e+03,\n",
       "       2.4000e+03, 1.4500e+04, 8.9990e+03, 6.4400e+05, 7.3000e+03,\n",
       "       1.4700e+06, 4.5000e+04, 1.4000e+04, 3.0000e+04, 1.7500e+05,\n",
       "       7.3000e+03, 4.5000e+04, 7.3000e+03, 3.0000e+05, 4.2400e+06,\n",
       "       4.2000e+05, 4.5000e+04, 3.3000e+04, 1.4000e+04, 4.6600e+04,\n",
       "       3.3776e+04, 1.3440e+06, 7.3000e+03, 1.9000e+04, 7.3000e+03,\n",
       "       5.0000e+04, 2.0000e+00, 7.3000e+03, 8.9990e+03, 2.3000e+05,\n",
       "       2.3000e+05, 7.3000e+03, 3.0000e+05, 8.9990e+03, 2.8640e+03,\n",
       "       3.3500e+05, 1.8600e+04, 3.7500e+05, 6.4400e+05, 1.3067e+04,\n",
       "       1.3000e+04, 2.0000e+00, 7.3000e+03, 6.1000e+04, 8.1000e+04,\n",
       "       7.5000e+04, 8.9990e+03, 8.1000e+04, 3.5000e+04, 2.3000e+05,\n",
       "       4.5000e+04, 5.0000e+04, 3.5000e+04, 2.7000e+04, 5.0000e+04,\n",
       "       7.3000e+03, 2.9500e+05, 4.5000e+04, 2.4000e+03, 3.7500e+05,\n",
       "       2.4000e+04, 7.3000e+03, 7.5000e+03, 1.3067e+04, 1.9000e+04,\n",
       "       2.3000e+05, 1.3067e+04, 1.6000e+04, 4.6600e+04, 8.9990e+03,\n",
       "       6.4400e+05, 1.7000e+05, 1.0000e+04, 4.2400e+06, 1.0500e+04,\n",
       "       7.3000e+03, 1.0000e+04, 1.3000e+04, 5.0000e+04, 2.7000e+04,\n",
       "       8.9990e+03, 1.8600e+04, 3.7500e+05, 3.5000e+04, 3.0000e+05,\n",
       "       2.3000e+05, 8.1000e+04, 4.2500e+05, 1.2500e+04, 1.8500e+04,\n",
       "       8.1000e+04, 8.9990e+03, 2.3000e+05, 2.3000e+05, 2.0000e+00,\n",
       "       1.0000e+04, 7.4900e+04, 2.7000e+04, 1.9200e+05, 2.7000e+04,\n",
       "       8.9990e+03, 7.3000e+03, 7.3000e+03, 1.3000e+04, 4.2000e+05,\n",
       "       1.3300e+05, 1.0500e+04, 1.3067e+04, 5.0000e+04, 7.3000e+03,\n",
       "       8.9990e+03, 1.3067e+04, 7.3000e+03, 1.4500e+04, 8.9990e+03,\n",
       "       1.4000e+04, 1.6660e+06, 2.3000e+05, 3.7500e+05, 1.3067e+04,\n",
       "       3.7800e+06, 8.9990e+03, 2.4000e+03, 3.3000e+04, 2.4000e+04,\n",
       "       2.0000e+00, 2.3000e+05, 3.3000e+04, 7.3000e+03, 4.5000e+04,\n",
       "       3.5000e+04, 1.0000e+04, 2.4000e+03, 2.0000e+00, 3.7500e+04,\n",
       "       6.4400e+05, 5.6000e+04, 1.0500e+04, 1.4500e+04, 8.9990e+03,\n",
       "       3.0000e+05, 2.3000e+05, 4.5000e+04, 8.9990e+03, 1.0000e+04,\n",
       "       5.0000e+04, 1.3067e+04, 1.7000e+04, 6.4400e+05, 4.2000e+05,\n",
       "       1.3067e+04, 2.3000e+05, 2.3000e+05, 7.3000e+03, 1.8500e+04,\n",
       "       3.5000e+04, 1.0000e+04, 1.0000e+04, 8.9990e+03, 5.0000e+04,\n",
       "       7.3000e+03, 2.7000e+04, 1.0500e+04, 1.0000e+04, 2.8640e+03,\n",
       "       1.0000e+04, 1.4500e+04, 2.8640e+03, 7.3000e+03, 1.6500e+05,\n",
       "       1.0000e+04, 1.4500e+04, 7.3000e+03, 2.7000e+04, 1.3067e+04,\n",
       "       1.3067e+04, 1.3067e+04, 6.4400e+05, 2.7000e+04, 1.4000e+04,\n",
       "       2.6500e+04, 6.4400e+05, 1.6660e+06, 7.3000e+03, 8.9990e+03,\n",
       "       3.0500e+04, 1.0000e+04, 1.3440e+06, 1.4700e+06, 1.4000e+04,\n",
       "       9.8000e+04, 3.3000e+04, 2.8640e+03, 2.8640e+03, 4.5000e+04,\n",
       "       1.7000e+05, 1.4000e+04, 2.8640e+03, 7.3000e+03, 1.0000e+03,\n",
       "       2.7000e+04, 8.9990e+03, 2.4000e+03, 2.8640e+03, 1.3067e+04,\n",
       "       1.3067e+04, 2.3000e+05, 8.9990e+03, 3.0000e+05, 7.3000e+03,\n",
       "       6.4400e+05, 6.6300e+06, 1.6660e+06, 1.4500e+04, 7.3000e+03,\n",
       "       1.6000e+05, 2.3000e+05, 1.4000e+05, 5.0000e+04, 7.3000e+03,\n",
       "       7.3000e+03, 3.0000e+05, 1.0000e+04, 7.5000e+03, 1.0600e+04,\n",
       "       1.0500e+04, 5.0000e+04, 3.5000e+04, 1.0000e+04, 2.5000e+05,\n",
       "       1.3067e+04, 1.0000e+04, 7.3000e+03, 5.0000e+04, 7.3000e+03,\n",
       "       3.5000e+04, 5.0000e+04, 1.0500e+04, 2.5000e+05, 5.0000e+04,\n",
       "       6.4400e+05, 7.3000e+03, 2.7000e+04, 1.8500e+04, 1.3067e+04,\n",
       "       4.2000e+05, 7.4900e+04, 2.6500e+04, 8.1000e+04, 1.3067e+04,\n",
       "       7.4900e+04, 4.2000e+05, 1.3067e+04, 2.0000e+00, 7.3000e+03,\n",
       "       1.3067e+04, 2.3000e+05, 2.5000e+05, 5.0000e+05, 7.3000e+03,\n",
       "       1.3067e+04, 4.5000e+04, 2.8640e+03, 1.4000e+05, 2.7000e+04,\n",
       "       1.6660e+06, 8.9990e+03, 6.4400e+05, 2.8640e+03, 1.3067e+04,\n",
       "       1.3067e+04, 2.3000e+05, 4.2000e+05, 2.3000e+05, 1.7000e+04,\n",
       "       1.4700e+06, 2.8640e+03, 8.1000e+04, 1.0500e+04, 4.5000e+04,\n",
       "       1.3000e+04, 8.9990e+03, 5.6000e+04, 2.3000e+05, 1.4000e+04,\n",
       "       4.5000e+04, 8.1000e+04, 2.4000e+03, 4.2400e+06, 7.3000e+03,\n",
       "       1.0000e+04, 1.3440e+06, 2.8640e+03, 1.3067e+04, 4.6000e+04,\n",
       "       4.5000e+04, 7.3000e+03, 2.3000e+05, 7.3000e+03, 7.3000e+03,\n",
       "       2.7000e+04, 2.8640e+03, 1.8500e+04, 2.3000e+05, 7.3000e+03,\n",
       "       1.6660e+06, 3.3000e+04])"
      ]
     },
     "execution_count": 103,
     "metadata": {},
     "output_type": "execute_result"
    }
   ],
   "source": [
    "tree"
   ]
  },
  {
   "cell_type": "code",
   "execution_count": 104,
   "id": "f06874f4",
   "metadata": {},
   "outputs": [
    {
     "data": {
      "text/plain": [
       "455.9642706575246"
      ]
     },
     "execution_count": 104,
     "metadata": {},
     "output_type": "execute_result"
    }
   ],
   "source": [
    "b = mean_absolute_error(y_test,tree)\n",
    "tree_error = np.sqrt(b)\n",
    "tree_error"
   ]
  },
  {
   "cell_type": "markdown",
   "id": "0ca80bbf",
   "metadata": {},
   "source": [
    "# Cross-Validation"
   ]
  },
  {
   "cell_type": "code",
   "execution_count": 106,
   "id": "134550eb",
   "metadata": {},
   "outputs": [],
   "source": [
    "X = housing.drop(\"price\", axis=1)\n",
    "y = housing[\"price\"].copy()\n",
    "\n",
    "X_prepared = full_pipeline.transform(X)"
   ]
  },
  {
   "cell_type": "code",
   "execution_count": 107,
   "id": "a7671558",
   "metadata": {},
   "outputs": [],
   "source": [
    "from sklearn.model_selection import cross_val_score"
   ]
  },
  {
   "cell_type": "code",
   "execution_count": 108,
   "id": "3ba0e318",
   "metadata": {},
   "outputs": [],
   "source": [
    "obj = cross_val_score(LR_model , X_prepared , y , scoring=\"neg_mean_squared_error\" , cv = 7)\n",
    "obj_result = np.sqrt(-obj)"
   ]
  },
  {
   "cell_type": "code",
   "execution_count": 109,
   "id": "4deb2105",
   "metadata": {},
   "outputs": [],
   "source": [
    "def hisobla(a):\n",
    "    print('score:',a)\n",
    "    print('mean:',a.mean())\n",
    "    print('std:',a.std())"
   ]
  },
  {
   "cell_type": "code",
   "execution_count": 110,
   "id": "b1155976",
   "metadata": {},
   "outputs": [
    {
     "name": "stdout",
     "output_type": "stream",
     "text": [
      "score: [ 20801.71146495  58241.75473374  24441.17914718  20825.42572665\n",
      "  34087.50450314 272658.4486913  204955.05468769]\n",
      "mean: 90858.725564951\n",
      "std: 96050.49918674497\n"
     ]
    }
   ],
   "source": [
    "hisobla(obj_result)"
   ]
  },
  {
   "cell_type": "code",
   "execution_count": 111,
   "id": "b6291347",
   "metadata": {},
   "outputs": [],
   "source": [
    "obj1 = cross_val_score(DT_model , X_prepared , y , scoring=\"neg_mean_squared_error\" , cv = 7)\n",
    "obj1_result = np.sqrt(-obj1)"
   ]
  },
  {
   "cell_type": "code",
   "execution_count": 112,
   "id": "92e46407",
   "metadata": {},
   "outputs": [
    {
     "name": "stdout",
     "output_type": "stream",
     "text": [
      "score: [  31217.09631935  132793.03761189    7490.11261579    6719.54857762\n",
      "    8770.44027351 1413061.50816222  386548.33425333]\n",
      "mean: 283800.011116242\n",
      "std: 478263.5240534432\n"
     ]
    }
   ],
   "source": [
    "hisobla(obj1_result)"
   ]
  },
  {
   "cell_type": "code",
   "execution_count": 113,
   "id": "0e6b1e88",
   "metadata": {},
   "outputs": [],
   "source": [
    "import pickle"
   ]
  },
  {
   "cell_type": "code",
   "execution_count": 114,
   "id": "dcd8cf27",
   "metadata": {},
   "outputs": [],
   "source": [
    "filename = 'DT_model.pk'\n",
    "with open(filename , 'wb') as file:\n",
    "    pickle.dump(DT_model,file)"
   ]
  },
  {
   "cell_type": "code",
   "execution_count": null,
   "id": "a7539e91",
   "metadata": {},
   "outputs": [],
   "source": []
  }
 ],
 "metadata": {
  "kernelspec": {
   "display_name": "Python 3",
   "language": "python",
   "name": "python3"
  },
  "language_info": {
   "codemirror_mode": {
    "name": "ipython",
    "version": 3
   },
   "file_extension": ".py",
   "mimetype": "text/x-python",
   "name": "python",
   "nbconvert_exporter": "python",
   "pygments_lexer": "ipython3",
   "version": "3.8.8"
  }
 },
 "nbformat": 4,
 "nbformat_minor": 5
}
